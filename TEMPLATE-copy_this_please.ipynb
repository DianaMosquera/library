{
  "nbformat": 4,
  "nbformat_minor": 0,
  "metadata": {
    "kernelspec": {
      "display_name": "Python 3",
      "language": "python",
      "name": "python3"
    },
    "language_info": {
      "codemirror_mode": {
        "name": "ipython",
        "version": 3
      },
      "file_extension": ".py",
      "mimetype": "text/x-python",
      "name": "python",
      "nbconvert_exporter": "python",
      "pygments_lexer": "ipython3",
      "version": "3.7.6"
    },
    "colab": {
      "name": "TEMPLATE-copy_this_please.ipynb",
      "provenance": [],
      "include_colab_link": true
    }
  },
  "cells": [
    {
      "cell_type": "markdown",
      "metadata": {
        "id": "view-in-github",
        "colab_type": "text"
      },
      "source": [
        "<a href=\"https://colab.research.google.com/github/earthspecies/open_collaboration_on_audio_classification/blob/master/TEMPLATE-copy_this_please.ipynb\" target=\"_parent\"><img src=\"https://colab.research.google.com/assets/colab-badge.svg\" alt=\"Open In Colab\"/></a>"
      ]
    },
    {
      "cell_type": "code",
      "metadata": {
        "id": "6zBubzcFgdLe",
        "colab_type": "code",
        "colab": {}
      },
      "source": [
        "%%capture\n",
        "import sys\n",
        "if 'google.colab' in sys.modules:\n",
        "  !pip install git+git://github.com/fastai/fastai2.git\n",
        "  !pip install torchaudio\n",
        "\n",
        "from fastai2.vision.all import *\n",
        "import torchaudio\n",
        "import librosa"
      ],
      "execution_count": 0,
      "outputs": []
    },
    {
      "cell_type": "code",
      "metadata": {
        "id": "YPOfoYpmgZyX",
        "colab_type": "code",
        "outputId": "ea081b61-b1d7-4ad9-b15d-6ffc6be1bb7a",
        "colab": {
          "base_uri": "https://localhost:8080/",
          "height": 17
        }
      },
      "source": [
        "path = untar_data('https://storage.googleapis.com/ml-animal-sounds-datasets/macaques_24414Hz.zip')\n",
        "\n",
        "def get_items(path): return get_files(path)\n",
        "\n",
        "def get_y(path): return path.parent.stem\n",
        "\n",
        "def get_x(path, target_rate=24414, num_samples=18310):\n",
        "    x, rate = torchaudio.load_wav(path)\n",
        "    if rate != target_rate: \n",
        "      x = torchaudio.transforms.Resample(orig_freq=rate, new_freq=24414, resampling_method='sinc_interpolation')(x)\n",
        "    x = x[0] / 32767\n",
        "    x = x.numpy()\n",
        "    x = librosa.util.fix_length(x, num_samples)\n",
        "    spec = librosa.feature.melspectrogram(x, sr=rate, n_fft=1024, hop_length=140)\n",
        "    spec = spec / spec.max() * 255 # we want the range of values for our data to be [0, 255]\n",
        "                                   # this way fastai internally will be able to represent it as an image using PIL\n",
        "    return spec.astype(np.uint8)"
      ],
      "execution_count": 0,
      "outputs": [
        {
          "output_type": "display_data",
          "data": {
            "text/html": [
              ""
            ],
            "text/plain": [
              "<IPython.core.display.HTML object>"
            ]
          },
          "metadata": {
            "tags": []
          }
        }
      ]
    },
    {
      "cell_type": "code",
      "metadata": {
        "id": "KUDSYGdGgZya",
        "colab_type": "code",
        "colab": {}
      },
      "source": [
        "db = DataBlock(\n",
        "    blocks=(ImageBlock, CategoryBlock),\n",
        "    get_items=get_items,\n",
        "    get_x=get_x,\n",
        "    get_y=get_y,\n",
        "    splitter=RandomSplitter(seed=42))"
      ],
      "execution_count": 0,
      "outputs": []
    },
    {
      "cell_type": "code",
      "metadata": {
        "id": "qLAX7mKlgZyc",
        "colab_type": "code",
        "colab": {}
      },
      "source": [
        "dls = db.dataloaders(path, num_workers=12)"
      ],
      "execution_count": 0,
      "outputs": []
    },
    {
      "cell_type": "code",
      "metadata": {
        "id": "IZopK-xwgZye",
        "colab_type": "code",
        "outputId": "82a29097-5fd9-41eb-c57d-c294cc4fc8bb",
        "colab": {
          "base_uri": "https://localhost:8080/",
          "height": 536
        }
      },
      "source": [
        "dls.show_batch()"
      ],
      "execution_count": 0,
      "outputs": [
        {
          "output_type": "display_data",
          "data": {
            "image/png": "[encoded data removed]",
            "text/plain": [
              "<Figure size 648x648 with 9 Axes>"
            ]
          },
          "metadata": {
            "tags": []
          }
        }
      ]
    },
    {
      "cell_type": "code",
      "metadata": {
        "id": "J43YnCyfgZyh",
        "colab_type": "code",
        "colab": {}
      },
      "source": [
        "# learn = cnn_learner(dls, resnet18, metrics=error_rate)\n",
        "# learn.fine_tune(1)"
      ],
      "execution_count": 0,
      "outputs": []
    },
    {
      "cell_type": "code",
      "metadata": {
        "id": "91eHXUSdgZyk",
        "colab_type": "code",
        "colab": {}
      },
      "source": [
        "# interp = ClassificationInterpretation.from_learner(learn)\n",
        "# interp.plot_confusion_matrix(figsize=(12,12), dpi=60)"
      ],
      "execution_count": 0,
      "outputs": []
    }
  ]
}