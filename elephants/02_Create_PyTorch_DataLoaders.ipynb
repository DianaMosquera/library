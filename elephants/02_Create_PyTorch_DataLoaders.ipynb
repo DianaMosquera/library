{
 "cells": [
  {
   "cell_type": "markdown",
   "metadata": {},
   "source": [
    "## Constructing the datasets"
   ]
  },
  {
   "cell_type": "markdown",
   "metadata": {},
   "source": [
    "We will use vanilla `PyTorch`. We will convert audio to spectrograms and codenames to idices to be used as labels."
   ]
  },
  {
   "cell_type": "code",
   "execution_count": 1,
   "metadata": {},
   "outputs": [],
   "source": [
    "import librosa\n",
    "import pandas as pd\n",
    "import numpy as np\n",
    "from IPython.lib.display import Audio\n",
    "from matplotlib import pyplot as plt\n",
    "import multiprocessing\n",
    "import scipy.signal\n",
    "\n",
    "import torch"
   ]
  },
  {
   "cell_type": "code",
   "execution_count": 2,
   "metadata": {},
   "outputs": [],
   "source": [
    "anno = pd.read_csv('data/annotations.csv')\n",
    "srs = []\n",
    "for _, row in anno.iterrows():\n",
    "    recording, sr = librosa.load(f'data/audio/{row.SndFile}.wav', sr=None)\n",
    "    srs.append(sr)"
   ]
  },
  {
   "cell_type": "code",
   "execution_count": 3,
   "metadata": {},
   "outputs": [
    {
     "data": {
      "text/plain": [
       "{2000, 3012, 22099, 43956, 48000}"
      ]
     },
     "execution_count": 3,
     "metadata": {},
     "output_type": "execute_result"
    }
   ],
   "source": [
    "set(srs)"
   ]
  },
  {
   "cell_type": "markdown",
   "metadata": {},
   "source": [
    "The files have been recorded with sample rates varying from 2kHz to 48kHz. Let's downsample all the files to 2kHz."
   ]
  },
  {
   "cell_type": "code",
   "execution_count": 4,
   "metadata": {},
   "outputs": [],
   "source": [
    "anno = pd.read_csv('data/annotations.csv')\n",
    "\n",
    "audio = []\n",
    "\n",
    "for _, row in anno.iterrows():\n",
    "    recording, _ = librosa.load(f'data/audio/{row.SndFile}.wav', sr=2000)\n",
    "    audio.append(recording[:5000]) # let's take just the first 2.5 seconds of audio\n",
    "    \n",
    "anno['audio'] = audio"
   ]
  },
  {
   "cell_type": "markdown",
   "metadata": {},
   "source": [
    "We now have the audio stored in our pandas dataframe as a column."
   ]
  },
  {
   "cell_type": "code",
   "execution_count": 5,
   "metadata": {},
   "outputs": [
    {
     "data": {
      "text/html": [
       "<div>\n",
       "<style scoped>\n",
       "    .dataframe tbody tr th:only-of-type {\n",
       "        vertical-align: middle;\n",
       "    }\n",
       "\n",
       "    .dataframe tbody tr th {\n",
       "        vertical-align: top;\n",
       "    }\n",
       "\n",
       "    .dataframe thead th {\n",
       "        text-align: right;\n",
       "    }\n",
       "</style>\n",
       "<table border=\"1\" class=\"dataframe\">\n",
       "  <thead>\n",
       "    <tr style=\"text-align: right;\">\n",
       "      <th></th>\n",
       "      <th>Year</th>\n",
       "      <th>Tape</th>\n",
       "      <th>ElapsedTime</th>\n",
       "      <th>Type</th>\n",
       "      <th>ContextType</th>\n",
       "      <th>QR1</th>\n",
       "      <th>AgeCaller</th>\n",
       "      <th>AgeClassCaller</th>\n",
       "      <th>SexCaller</th>\n",
       "      <th>Callers</th>\n",
       "      <th>QR2</th>\n",
       "      <th>Meters</th>\n",
       "      <th>Directed to</th>\n",
       "      <th>FieldNotes</th>\n",
       "      <th>SndFile</th>\n",
       "      <th>audio</th>\n",
       "    </tr>\n",
       "  </thead>\n",
       "  <tbody>\n",
       "    <tr>\n",
       "      <th>0</th>\n",
       "      <td>1999.0</td>\n",
       "      <td>3.0</td>\n",
       "      <td>1552.0</td>\n",
       "      <td>rumble</td>\n",
       "      <td>lets go</td>\n",
       "      <td>A</td>\n",
       "      <td>54.0</td>\n",
       "      <td>5</td>\n",
       "      <td>Female</td>\n",
       "      <td>Echo</td>\n",
       "      <td>A</td>\n",
       "      <td>15.0</td>\n",
       "      <td>NaN</td>\n",
       "      <td>note that she give sharp ear flap first - this...</td>\n",
       "      <td>B0301552</td>\n",
       "      <td>[0.0, 0.0, -9.1552734e-05, -0.00079345703, -0....</td>\n",
       "    </tr>\n",
       "    <tr>\n",
       "      <th>1</th>\n",
       "      <td>1999.0</td>\n",
       "      <td>9.0</td>\n",
       "      <td>2708.0</td>\n",
       "      <td>rumble</td>\n",
       "      <td>female chorus</td>\n",
       "      <td>A</td>\n",
       "      <td>54.0</td>\n",
       "      <td>5</td>\n",
       "      <td>Female</td>\n",
       "      <td>Echo</td>\n",
       "      <td>A</td>\n",
       "      <td>10.0</td>\n",
       "      <td>NaN</td>\n",
       "      <td>as tested by Masaku; and another rumble here ...</td>\n",
       "      <td>B0902708</td>\n",
       "      <td>[0.0, 0.0, 9.1552734e-05, 0.00079345703, 0.003...</td>\n",
       "    </tr>\n",
       "    <tr>\n",
       "      <th>2</th>\n",
       "      <td>1999.0</td>\n",
       "      <td>20.0</td>\n",
       "      <td>2134.0</td>\n",
       "      <td>rumble</td>\n",
       "      <td>cadenced</td>\n",
       "      <td>A</td>\n",
       "      <td>54.0</td>\n",
       "      <td>5</td>\n",
       "      <td>Female</td>\n",
       "      <td>Echo</td>\n",
       "      <td>A</td>\n",
       "      <td>20.0</td>\n",
       "      <td>NaN</td>\n",
       "      <td>NaN</td>\n",
       "      <td>B2002134</td>\n",
       "      <td>[-0.001953125, 0.0009765625, 0.0014648438, 0.0...</td>\n",
       "    </tr>\n",
       "    <tr>\n",
       "      <th>3</th>\n",
       "      <td>1999.0</td>\n",
       "      <td>20.0</td>\n",
       "      <td>2222.0</td>\n",
       "      <td>rumble</td>\n",
       "      <td>cadenced</td>\n",
       "      <td>A</td>\n",
       "      <td>54.0</td>\n",
       "      <td>5</td>\n",
       "      <td>Female</td>\n",
       "      <td>Echo</td>\n",
       "      <td>A</td>\n",
       "      <td>20.0</td>\n",
       "      <td>NaN</td>\n",
       "      <td>Echo is in the lead facing OTO</td>\n",
       "      <td>B2002222</td>\n",
       "      <td>[0.000579834, 0.0010681152, -0.00039672852, 0....</td>\n",
       "    </tr>\n",
       "    <tr>\n",
       "      <th>4</th>\n",
       "      <td>1999.0</td>\n",
       "      <td>20.0</td>\n",
       "      <td>2331.0</td>\n",
       "      <td>rumble</td>\n",
       "      <td>cadenced</td>\n",
       "      <td>A</td>\n",
       "      <td>54.0</td>\n",
       "      <td>5</td>\n",
       "      <td>Female</td>\n",
       "      <td>Echo</td>\n",
       "      <td>A</td>\n",
       "      <td>40.0</td>\n",
       "      <td>NaN</td>\n",
       "      <td>NaN</td>\n",
       "      <td>B2002331</td>\n",
       "      <td>[0.0132751465, 0.012298584, 0.0093688965, 0.01...</td>\n",
       "    </tr>\n",
       "  </tbody>\n",
       "</table>\n",
       "</div>"
      ],
      "text/plain": [
       "     Year  Tape  ElapsedTime    Type    ContextType QR1  AgeCaller  \\\n",
       "0  1999.0   3.0       1552.0  rumble        lets go   A       54.0   \n",
       "1  1999.0   9.0       2708.0  rumble  female chorus   A       54.0   \n",
       "2  1999.0  20.0       2134.0  rumble       cadenced   A       54.0   \n",
       "3  1999.0  20.0       2222.0  rumble       cadenced   A       54.0   \n",
       "4  1999.0  20.0       2331.0  rumble       cadenced   A       54.0   \n",
       "\n",
       "  AgeClassCaller SexCaller Callers QR2  Meters Directed to  \\\n",
       "0              5    Female    Echo   A    15.0         NaN   \n",
       "1              5    Female    Echo   A    10.0         NaN   \n",
       "2              5    Female    Echo   A    20.0         NaN   \n",
       "3              5    Female    Echo   A    20.0         NaN   \n",
       "4              5    Female    Echo   A    40.0         NaN   \n",
       "\n",
       "                                          FieldNotes   SndFile  \\\n",
       "0  note that she give sharp ear flap first - this...  B0301552   \n",
       "1   as tested by Masaku; and another rumble here ...  B0902708   \n",
       "2                                                NaN  B2002134   \n",
       "3                     Echo is in the lead facing OTO  B2002222   \n",
       "4                                                NaN  B2002331   \n",
       "\n",
       "                                               audio  \n",
       "0  [0.0, 0.0, -9.1552734e-05, -0.00079345703, -0....  \n",
       "1  [0.0, 0.0, 9.1552734e-05, 0.00079345703, 0.003...  \n",
       "2  [-0.001953125, 0.0009765625, 0.0014648438, 0.0...  \n",
       "3  [0.000579834, 0.0010681152, -0.00039672852, 0....  \n",
       "4  [0.0132751465, 0.012298584, 0.0093688965, 0.01...  "
      ]
     },
     "execution_count": 5,
     "metadata": {},
     "output_type": "execute_result"
    }
   ],
   "source": [
    "anno.head()"
   ]
  },
  {
   "cell_type": "markdown",
   "metadata": {},
   "source": [
    "Let's save the modified annotation file that now includes audio so that we can easily access it from other notebooks."
   ]
  },
  {
   "cell_type": "code",
   "execution_count": 6,
   "metadata": {},
   "outputs": [],
   "source": [
    "anno.to_pickle('data/anno_with_audio.pkl')"
   ]
  },
  {
   "cell_type": "markdown",
   "metadata": {},
   "source": [
    "Here is what we need to do for each of the examples:\n",
    "* convert the audio to a spectrogram\n",
    "* assign label expressed as an integer"
   ]
  },
  {
   "cell_type": "code",
   "execution_count": 7,
   "metadata": {},
   "outputs": [
    {
     "data": {
      "image/png": "[encoded data removed]",
      "text/plain": [
       "<Figure size 432x288 with 1 Axes>"
      ]
     },
     "metadata": {
      "needs_background": "light"
     },
     "output_type": "display_data"
    }
   ],
   "source": [
    "spec = scipy.signal.spectrogram(anno.loc[0, 'audio'])[2]\n",
    "plt.imshow(spec);"
   ]
  },
  {
   "cell_type": "markdown",
   "metadata": {},
   "source": [
    "Let us now develop a way of representing labels as integers."
   ]
  },
  {
   "cell_type": "code",
   "execution_count": 8,
   "metadata": {},
   "outputs": [],
   "source": [
    "callers = anno['Callers'].unique().tolist()\n",
    "\n",
    "caller2idx = {caller: idx for idx, caller in enumerate(callers)}"
   ]
  },
  {
   "cell_type": "markdown",
   "metadata": {},
   "source": [
    "Now that we have the components in place, let's work on our datasets."
   ]
  },
  {
   "cell_type": "code",
   "execution_count": 9,
   "metadata": {},
   "outputs": [],
   "source": [
    "class Dataset(torch.utils.data.Dataset):\n",
    "    def __init__(self, df):\n",
    "        self.examples = df\n",
    "        \n",
    "    def __getitem__(self, index):\n",
    "        example = self.examples.iloc[index]\n",
    "        x = scipy.signal.spectrogram(anno.loc[0, 'audio'])[2]\n",
    "        y = caller2idx[example['Callers']]\n",
    "        return x, y\n",
    "\n",
    "    def __len__(self):\n",
    "        return self.examples.shape[0]"
   ]
  },
  {
   "cell_type": "code",
   "execution_count": 10,
   "metadata": {},
   "outputs": [],
   "source": [
    "shuffled = anno.sample(frac=1)"
   ]
  },
  {
   "cell_type": "code",
   "execution_count": 11,
   "metadata": {},
   "outputs": [],
   "source": [
    "train_ds = Dataset(shuffled.iloc[:250])\n",
    "valid_ds = Dataset(shuffled.iloc[250:])"
   ]
  },
  {
   "cell_type": "markdown",
   "metadata": {},
   "source": [
    "Let's now construct the dataloaders to ensure everything works as expected."
   ]
  },
  {
   "cell_type": "code",
   "execution_count": 12,
   "metadata": {},
   "outputs": [],
   "source": [
    "train_dl = torch.utils.data.DataLoader(\n",
    "    dataset=train_ds,\n",
    "    batch_size=32,\n",
    "    shuffle=True,\n",
    "    num_workers=multiprocessing.cpu_count()-1\n",
    ")\n",
    "\n",
    "valid_dl = torch.utils.data.DataLoader(\n",
    "    dataset=valid_ds,\n",
    "    batch_size=32,\n",
    "    shuffle=False,\n",
    "    num_workers=multiprocessing.cpu_count()-1\n",
    ")"
   ]
  },
  {
   "cell_type": "code",
   "execution_count": 13,
   "metadata": {},
   "outputs": [],
   "source": [
    "for batch in train_dl: pass\n",
    "for batch in valid_dl: pass"
   ]
  },
  {
   "cell_type": "code",
   "execution_count": 14,
   "metadata": {},
   "outputs": [
    {
     "data": {
      "text/plain": [
       "(torch.Size([32, 129, 22]), torch.Size([32]))"
      ]
     },
     "execution_count": 14,
     "metadata": {},
     "output_type": "execute_result"
    }
   ],
   "source": [
    "batch[0].shape, batch[1].shape"
   ]
  }
 ],
 "metadata": {
  "kernelspec": {
   "display_name": "Python 3",
   "language": "python",
   "name": "python3"
  },
  "language_info": {
   "codemirror_mode": {
    "name": "ipython",
    "version": 3
   },
   "file_extension": ".py",
   "mimetype": "text/x-python",
   "name": "python",
   "nbconvert_exporter": "python",
   "pygments_lexer": "ipython3",
   "version": "3.7.6"
  }
 },
 "nbformat": 4,
 "nbformat_minor": 4
}
