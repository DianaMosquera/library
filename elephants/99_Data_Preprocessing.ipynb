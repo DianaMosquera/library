{
 "cells": [
  {
   "cell_type": "markdown",
   "metadata": {},
   "source": [
    "# Data Preprocessing\n",
    "\n",
    "The dataset has been shared with us (The Earth Species Project) by our collaborators, [ElephantVoices](https://www.elephantvoices.org/).\n",
    "\n",
    "Here we document the preprocessing steps that were applied to the raw data we received. The raw dataset can be accessed [here](https://console.cloud.google.com/storage/browser/ml-bioacoustics-datasets;tab=objects?forceOnBucketsSortingFiltering=false&authuser=1&project=okapi-274503&prefix=&forceOnObjectsSortingFiltering=false) **[Please note: this is not yet shared publicly, for internal use only]**. Please download the `elephants_raw.zip` file and put in the root of this directory.\n",
    "\n",
    "We preprocess the data to create two datasets, one with solo callers ready for speaker identification (classification) and one containing all recordings without labels (useful for pretraining, semisupervised training, audio generation, etc)."
   ]
  },
  {
   "cell_type": "code",
   "execution_count": 1,
   "metadata": {},
   "outputs": [],
   "source": [
    "!mkdir data\n",
    "!cp elephants_raw.zip data/\n",
    "!cd data && unzip -q elephants_raw.zip"
   ]
  },
  {
   "cell_type": "code",
   "execution_count": 2,
   "metadata": {},
   "outputs": [
    {
     "name": "stdout",
     "output_type": "stream",
     "text": [
      "\u001b[0m\u001b[01;34mEcho rumbles\u001b[0m/      \u001b[01;34mEmma rumbles\u001b[0m/  \u001b[01;34mEudora rumbles\u001b[0m/\r\n",
      "\u001b[01;31melephants_raw.zip\u001b[0m  \u001b[01;34mEnid rumbles\u001b[0m/  \u001b[01;34mMultiple callers\u001b[0m/\r\n",
      "\u001b[01;34mElla rumbles\u001b[0m/      \u001b[01;34mErin rumbles\u001b[0m/  \u001b[01;34mxlsx spreadsheets for ESP\u001b[0m/\r\n"
     ]
    }
   ],
   "source": [
    "ls data"
   ]
  },
  {
   "cell_type": "code",
   "execution_count": 3,
   "metadata": {},
   "outputs": [],
   "source": [
    "import pandas as pd"
   ]
  },
  {
   "cell_type": "code",
   "execution_count": 4,
   "metadata": {},
   "outputs": [],
   "source": [
    "xlses = []\n",
    "for name in ['Echo', 'Emma', 'Erin', 'Ella', 'Enid', 'Eudora']:\n",
    "    xls = pd.read_excel(f'data/xlsx spreadsheets for ESP/{name}.xlsx')\n",
    "    xlses.append(xls)"
   ]
  },
  {
   "cell_type": "code",
   "execution_count": 5,
   "metadata": {},
   "outputs": [],
   "source": [
    "solo_callers = pd.concat(xlses)"
   ]
  },
  {
   "cell_type": "code",
   "execution_count": 6,
   "metadata": {},
   "outputs": [],
   "source": [
    "# removing all entries without a file name\n",
    "solo_callers = solo_callers[~solo_callers.SndFile.isna()]\n",
    "solo_callers = solo_callers[solo_callers.SndFile != 'poor quality']"
   ]
  },
  {
   "cell_type": "code",
   "execution_count": 7,
   "metadata": {},
   "outputs": [],
   "source": [
    "solo_callers = solo_callers[solo_callers['Emma only caller?'].isna() | (solo_callers['Emma only caller?'] == 'yes')]\n",
    "solo_callers = solo_callers[solo_callers['Erin only caller?'].isna() | (solo_callers['Erin only caller?'] == 'yes')]\n",
    "solo_callers = solo_callers[solo_callers['Ella alone'].isna() | (solo_callers['Ella alone'] == 'yes')]\n",
    "solo_callers = solo_callers[solo_callers['Enid only caller?'].isna() | (solo_callers['Enid only caller?'] == 'yes')]\n",
    "solo_callers = solo_callers[solo_callers['Enid only caller?'].isna() | (solo_callers['Enid only caller?'] == 'yes')]\n",
    "solo_callers = solo_callers[solo_callers['Eudora only caller?'].isna() | (solo_callers['Eudora only caller?'] == 'yes')]"
   ]
  },
  {
   "cell_type": "code",
   "execution_count": 8,
   "metadata": {},
   "outputs": [],
   "source": [
    "solo_callers.drop_duplicates('SndFile', inplace=True)\n",
    "solo_callers.drop(columns=['Emma only caller?',\n",
    "       'sound file found', 'Erin only caller?', 'Ella alone',\n",
    "       'Sound file found', 'Enid only caller?', 'Eudora only caller?'], inplace=True)"
   ]
  },
  {
   "cell_type": "code",
   "execution_count": 9,
   "metadata": {},
   "outputs": [],
   "source": [
    "import glob\n",
    "from shutil import copyfile"
   ]
  },
  {
   "cell_type": "code",
   "execution_count": 10,
   "metadata": {},
   "outputs": [],
   "source": [
    "mkdir data/audio_all"
   ]
  },
  {
   "cell_type": "code",
   "execution_count": 11,
   "metadata": {},
   "outputs": [],
   "source": [
    "for path in glob.glob('data/**/**/*.wav') + glob.glob('data/**/*.wav'):\n",
    "    copyfile(path, f'data/audio_all/{path.split(\"/\")[-1]}')"
   ]
  },
  {
   "cell_type": "code",
   "execution_count": 12,
   "metadata": {},
   "outputs": [],
   "source": [
    "mkdir data/audio"
   ]
  },
  {
   "cell_type": "code",
   "execution_count": 13,
   "metadata": {},
   "outputs": [],
   "source": [
    "missing_files = []\n",
    "\n",
    "for fn in solo_callers.SndFile:\n",
    "    try:\n",
    "        copyfile(f'data/audio_all/{fn}.wav', f'data/audio/{fn}.wav')\n",
    "    except:\n",
    "        missing_files.append(fn)"
   ]
  },
  {
   "cell_type": "code",
   "execution_count": 14,
   "metadata": {},
   "outputs": [],
   "source": [
    "solo_callers = solo_callers[~solo_callers.SndFile.isin(missing_files)]\n",
    "solo_callers.reset_index(inplace=True, drop=True)\n",
    "solo_callers.to_csv('data/annotations.csv', index=False)"
   ]
  },
  {
   "cell_type": "code",
   "execution_count": 15,
   "metadata": {},
   "outputs": [
    {
     "data": {
      "text/plain": [
       "Ella      104\n",
       "Echo       84\n",
       "Enid       62\n",
       "Eudora     32\n",
       "Erin       16\n",
       "Emma       16\n",
       "Name: Callers, dtype: int64"
      ]
     },
     "execution_count": 15,
     "metadata": {},
     "output_type": "execute_result"
    }
   ],
   "source": [
    "solo_callers.Callers.value_counts()"
   ]
  },
  {
   "cell_type": "code",
   "execution_count": 16,
   "metadata": {},
   "outputs": [],
   "source": [
    "!cd data && zip -qr elephant_rumbles.zip annotations.csv audio"
   ]
  },
  {
   "cell_type": "code",
   "execution_count": 17,
   "metadata": {},
   "outputs": [],
   "source": [
    "!rm -rf data/audio\n",
    "!mv data/audio_all data/audio"
   ]
  },
  {
   "cell_type": "code",
   "execution_count": 18,
   "metadata": {},
   "outputs": [],
   "source": [
    "fns = [path.split('/')[-1] for path in glob.glob('data/audio/*')]\n",
    "anno = pd.DataFrame({'SndFile': fns})\n",
    "anno.to_csv('data/annotations.csv', index=False)"
   ]
  },
  {
   "cell_type": "code",
   "execution_count": 19,
   "metadata": {},
   "outputs": [],
   "source": [
    "!cd data && zip -qr elephant_rumbles_unlabeled.zip annotations.csv audio"
   ]
  }
 ],
 "metadata": {
  "kernelspec": {
   "display_name": "Python 3",
   "language": "python",
   "name": "python3"
  },
  "language_info": {
   "codemirror_mode": {
    "name": "ipython",
    "version": 3
   },
   "file_extension": ".py",
   "mimetype": "text/x-python",
   "name": "python",
   "nbconvert_exporter": "python",
   "pygments_lexer": "ipython3",
   "version": "3.7.6"
  }
 },
 "nbformat": 4,
 "nbformat_minor": 4
}
