{
 "cells": [
  {
   "cell_type": "markdown",
   "metadata": {},
   "source": [
    "## Download Dataset"
   ]
  },
  {
   "cell_type": "markdown",
   "metadata": {},
   "source": [
    "In this notebook we will use the version of the dataset that lends itself well to classification tasks. You can download it here - the `elephant_rumbles.zip`. **[Please note: this is not yet shared publicly, for internal use only]** Please place it in the root of this folder.\n",
    "\n",
    "This dataset consists of 314 annotated calls."
   ]
  },
  {
   "cell_type": "code",
   "execution_count": 1,
   "metadata": {},
   "outputs": [],
   "source": [
    "mkdir data"
   ]
  },
  {
   "cell_type": "code",
   "execution_count": 2,
   "metadata": {
    "scrolled": true
   },
   "outputs": [],
   "source": [
    "!cp elephant_rumbles.zip data/\n",
    "!cd data && unzip -q elephant_rumbles.zip"
   ]
  },
  {
   "cell_type": "markdown",
   "metadata": {},
   "source": [
    "And we now have everything that we need!"
   ]
  },
  {
   "cell_type": "code",
   "execution_count": 3,
   "metadata": {},
   "outputs": [
    {
     "name": "stdout",
     "output_type": "stream",
     "text": [
      "annotations.csv  \u001b[0m\u001b[01;34maudio\u001b[0m/  \u001b[01;31melephant_rumbles.zip\u001b[0m\r\n"
     ]
    }
   ],
   "source": [
    "ls data"
   ]
  },
  {
   "cell_type": "markdown",
   "metadata": {},
   "source": [
    "The `annotations.csv` file contains label information with each file being referred by its name."
   ]
  },
  {
   "cell_type": "code",
   "execution_count": 4,
   "metadata": {},
   "outputs": [
    {
     "data": {
      "text/html": [
       "<div>\n",
       "<style scoped>\n",
       "    .dataframe tbody tr th:only-of-type {\n",
       "        vertical-align: middle;\n",
       "    }\n",
       "\n",
       "    .dataframe tbody tr th {\n",
       "        vertical-align: top;\n",
       "    }\n",
       "\n",
       "    .dataframe thead th {\n",
       "        text-align: right;\n",
       "    }\n",
       "</style>\n",
       "<table border=\"1\" class=\"dataframe\">\n",
       "  <thead>\n",
       "    <tr style=\"text-align: right;\">\n",
       "      <th></th>\n",
       "      <th>Year</th>\n",
       "      <th>Tape</th>\n",
       "      <th>ElapsedTime</th>\n",
       "      <th>Type</th>\n",
       "      <th>ContextType</th>\n",
       "      <th>QR1</th>\n",
       "      <th>AgeCaller</th>\n",
       "      <th>AgeClassCaller</th>\n",
       "      <th>SexCaller</th>\n",
       "      <th>Callers</th>\n",
       "      <th>QR2</th>\n",
       "      <th>Meters</th>\n",
       "      <th>Directed to</th>\n",
       "      <th>FieldNotes</th>\n",
       "      <th>SndFile</th>\n",
       "    </tr>\n",
       "  </thead>\n",
       "  <tbody>\n",
       "    <tr>\n",
       "      <th>0</th>\n",
       "      <td>1999.0</td>\n",
       "      <td>3.0</td>\n",
       "      <td>1552.0</td>\n",
       "      <td>rumble</td>\n",
       "      <td>lets go</td>\n",
       "      <td>A</td>\n",
       "      <td>54.0</td>\n",
       "      <td>5</td>\n",
       "      <td>Female</td>\n",
       "      <td>Echo</td>\n",
       "      <td>A</td>\n",
       "      <td>15.0</td>\n",
       "      <td>NaN</td>\n",
       "      <td>note that she give sharp ear flap first - this...</td>\n",
       "      <td>B0301552</td>\n",
       "    </tr>\n",
       "    <tr>\n",
       "      <th>1</th>\n",
       "      <td>1999.0</td>\n",
       "      <td>9.0</td>\n",
       "      <td>2708.0</td>\n",
       "      <td>rumble</td>\n",
       "      <td>female chorus</td>\n",
       "      <td>A</td>\n",
       "      <td>54.0</td>\n",
       "      <td>5</td>\n",
       "      <td>Female</td>\n",
       "      <td>Echo</td>\n",
       "      <td>A</td>\n",
       "      <td>10.0</td>\n",
       "      <td>NaN</td>\n",
       "      <td>as tested by Masaku; and another rumble here ...</td>\n",
       "      <td>B0902708</td>\n",
       "    </tr>\n",
       "    <tr>\n",
       "      <th>2</th>\n",
       "      <td>1999.0</td>\n",
       "      <td>20.0</td>\n",
       "      <td>2134.0</td>\n",
       "      <td>rumble</td>\n",
       "      <td>cadenced</td>\n",
       "      <td>A</td>\n",
       "      <td>54.0</td>\n",
       "      <td>5</td>\n",
       "      <td>Female</td>\n",
       "      <td>Echo</td>\n",
       "      <td>A</td>\n",
       "      <td>20.0</td>\n",
       "      <td>NaN</td>\n",
       "      <td>NaN</td>\n",
       "      <td>B2002134</td>\n",
       "    </tr>\n",
       "    <tr>\n",
       "      <th>3</th>\n",
       "      <td>1999.0</td>\n",
       "      <td>20.0</td>\n",
       "      <td>2222.0</td>\n",
       "      <td>rumble</td>\n",
       "      <td>cadenced</td>\n",
       "      <td>A</td>\n",
       "      <td>54.0</td>\n",
       "      <td>5</td>\n",
       "      <td>Female</td>\n",
       "      <td>Echo</td>\n",
       "      <td>A</td>\n",
       "      <td>20.0</td>\n",
       "      <td>NaN</td>\n",
       "      <td>Echo is in the lead facing OTO</td>\n",
       "      <td>B2002222</td>\n",
       "    </tr>\n",
       "    <tr>\n",
       "      <th>4</th>\n",
       "      <td>1999.0</td>\n",
       "      <td>20.0</td>\n",
       "      <td>2331.0</td>\n",
       "      <td>rumble</td>\n",
       "      <td>cadenced</td>\n",
       "      <td>A</td>\n",
       "      <td>54.0</td>\n",
       "      <td>5</td>\n",
       "      <td>Female</td>\n",
       "      <td>Echo</td>\n",
       "      <td>A</td>\n",
       "      <td>40.0</td>\n",
       "      <td>NaN</td>\n",
       "      <td>NaN</td>\n",
       "      <td>B2002331</td>\n",
       "    </tr>\n",
       "  </tbody>\n",
       "</table>\n",
       "</div>"
      ],
      "text/plain": [
       "     Year  Tape  ElapsedTime    Type    ContextType QR1  AgeCaller  \\\n",
       "0  1999.0   3.0       1552.0  rumble        lets go   A       54.0   \n",
       "1  1999.0   9.0       2708.0  rumble  female chorus   A       54.0   \n",
       "2  1999.0  20.0       2134.0  rumble       cadenced   A       54.0   \n",
       "3  1999.0  20.0       2222.0  rumble       cadenced   A       54.0   \n",
       "4  1999.0  20.0       2331.0  rumble       cadenced   A       54.0   \n",
       "\n",
       "  AgeClassCaller SexCaller Callers QR2  Meters Directed to  \\\n",
       "0              5    Female    Echo   A    15.0         NaN   \n",
       "1              5    Female    Echo   A    10.0         NaN   \n",
       "2              5    Female    Echo   A    20.0         NaN   \n",
       "3              5    Female    Echo   A    20.0         NaN   \n",
       "4              5    Female    Echo   A    40.0         NaN   \n",
       "\n",
       "                                          FieldNotes   SndFile  \n",
       "0  note that she give sharp ear flap first - this...  B0301552  \n",
       "1   as tested by Masaku; and another rumble here ...  B0902708  \n",
       "2                                                NaN  B2002134  \n",
       "3                     Echo is in the lead facing OTO  B2002222  \n",
       "4                                                NaN  B2002331  "
      ]
     },
     "execution_count": 4,
     "metadata": {},
     "output_type": "execute_result"
    }
   ],
   "source": [
    "import pandas as pd\n",
    "\n",
    "pd.read_csv('data/annotations.csv').head()"
   ]
  }
 ],
 "metadata": {
  "kernelspec": {
   "display_name": "Python 3",
   "language": "python",
   "name": "python3"
  },
  "language_info": {
   "codemirror_mode": {
    "name": "ipython",
    "version": 3
   },
   "file_extension": ".py",
   "mimetype": "text/x-python",
   "name": "python",
   "nbconvert_exporter": "python",
   "pygments_lexer": "ipython3",
   "version": "3.7.6"
  }
 },
 "nbformat": 4,
 "nbformat_minor": 4
}
