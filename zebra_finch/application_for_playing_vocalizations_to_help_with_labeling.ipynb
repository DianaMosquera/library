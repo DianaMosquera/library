{
 "cells": [
  {
   "cell_type": "code",
   "execution_count": 1,
   "metadata": {},
   "outputs": [],
   "source": [
    "from IPython.lib.display import Audio\n",
    "import re\n",
    "import random\n",
    "import pathlib\n",
    "import pandas as pd\n",
    "from ipywidgets import interact, interactive, fixed, interact_manual\n",
    "import ipywidgets as widgets"
   ]
  },
  {
   "cell_type": "code",
   "execution_count": 2,
   "metadata": {},
   "outputs": [],
   "source": [
    "# !pip install voila\n",
    "# !jupyter serverextension enable voila --sys-prefix"
   ]
  },
  {
   "cell_type": "code",
   "execution_count": 3,
   "metadata": {},
   "outputs": [],
   "source": [
    "# !wget https://ndownloader.figshare.com/articles/11905533/versions/1 -O data.zip\n",
    "# !unzip data.zip -d data\n",
    "# !unzip data/AdultVocalizations.zip -d data/adult_vocalizations\n",
    "# !unzip data/ChickVocalizations.zip -d data/chick_vocalizations\n",
    "\n",
    "# !mkdir -p data/vocalizations\n",
    "# !cp data/adult_vocalizations/* data/vocalizations/\n",
    "# !cp data/chick_vocalizations/* data/vocalizations/"
   ]
  },
  {
   "cell_type": "code",
   "execution_count": 4,
   "metadata": {},
   "outputs": [],
   "source": [
    "df = pd.read_csv('data/annotations.csv')"
   ]
  },
  {
   "cell_type": "code",
   "execution_count": 5,
   "metadata": {},
   "outputs": [],
   "source": [
    "def create_expanded_button(description, button_style):\n",
    "    return widgets.Button(\n",
    "        description=description,\n",
    "        button_style=button_style,\n",
    "        layout=widgets.Layout(height='auto', width='auto')\n",
    "    )"
   ]
  },
  {
   "cell_type": "code",
   "execution_count": 6,
   "metadata": {},
   "outputs": [
    {
     "data": {
      "application/vnd.jupyter.widget-view+json": {
       "model_id": "638daa3a616b45908a9999f68f4312e8",
       "version_major": 2,
       "version_minor": 0
      },
      "text/plain": [
       "VBox(children=(HTML(value='<h3>Press to load a random recording with a given label</h3>'), GridspecLayout(chil…"
      ]
     },
     "metadata": {},
     "output_type": "display_data"
    }
   ],
   "source": [
    "grid = widgets.GridspecLayout(5, 8)\n",
    "call_types = sorted(df.call_type.unique())\n",
    "\n",
    "out = widgets.Output(layout={'border': '1px solid black', 'margin': '20px auto'})\n",
    "\n",
    "@out.capture(clear_output=True)\n",
    "def update_output(button):\n",
    "    lstrip = button.description.find('[')\n",
    "    call_type = button.description[:lstrip-1]\n",
    "    display(widgets.HTML(f'<p>Loaded call of type <strong>{call_type}</strong></p>'))\n",
    "    fn = df[df.call_type == call_type].sample(1).fn.item()\n",
    "    path = f'data/vocalizations/{fn}'\n",
    "\n",
    "    with open(path, 'rb') as fd:\n",
    "        contents = fd.read()\n",
    "        audio = widgets.Audio(value=contents, autoplay=True, loop=False, controls=True)\n",
    "    \n",
    "    display(audio)\n",
    "\n",
    "for i in range(5):\n",
    "    for j in range(8):\n",
    "        idx = i*8 + j\n",
    "        if idx < len(call_types):\n",
    "            n = df[df.call_type == call_types[idx]].shape[0]\n",
    "            btn = create_expanded_button(f'{call_types[idx]} [{n}]', button_style='warning')\n",
    "            btn.on_click(update_output)\n",
    "            grid[i, j] = btn\n",
    "    \n",
    "initial_button = random.sample(grid.children, 1)[0] # initialize to some random value\n",
    "update_output(initial_button)\n",
    "    \n",
    "widgets.VBox([widgets.HTML('<h3>Press to load a random recording with a given label</h3>'), grid, out])"
   ]
  }
 ],
 "metadata": {
  "kernelspec": {
   "display_name": "Python 3",
   "language": "python",
   "name": "python3"
  },
  "language_info": {
   "codemirror_mode": {
    "name": "ipython",
    "version": 3
   },
   "file_extension": ".py",
   "mimetype": "text/x-python",
   "name": "python",
   "nbconvert_exporter": "python",
   "pygments_lexer": "ipython3",
   "version": "3.7.6"
  }
 },
 "nbformat": 4,
 "nbformat_minor": 4
}
