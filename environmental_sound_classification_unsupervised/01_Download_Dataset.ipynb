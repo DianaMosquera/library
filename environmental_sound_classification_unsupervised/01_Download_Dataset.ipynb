{
 "cells": [
  {
   "cell_type": "markdown",
   "metadata": {},
   "source": [
    "## Download Dataset"
   ]
  },
  {
   "cell_type": "markdown",
   "metadata": {},
   "source": [
    "This dataset is made publicly available on [archive.org](https://archive.org/details/esc-us).\n",
    "\n",
    "Let's download the data and extract it."
   ]
  },
  {
   "cell_type": "code",
   "execution_count": 8,
   "metadata": {},
   "outputs": [],
   "source": [
    "mkdir data"
   ]
  },
  {
   "cell_type": "code",
   "execution_count": 9,
   "metadata": {},
   "outputs": [
    {
     "name": "stdout",
     "output_type": "stream",
     "text": [
      "--2021-07-06 12:38:32--  https://archive.org/download/esc-us/ESC-US.zip\n",
      "Resolving archive.org (archive.org)... 207.241.224.2\n",
      "Connecting to archive.org (archive.org)|207.241.224.2|:443... connected.\n",
      "HTTP request sent, awaiting response... 302 Found\n",
      "Location: https://ia801507.us.archive.org/3/items/esc-us/ESC-US.zip [following]\n",
      "--2021-07-06 12:38:32--  https://ia801507.us.archive.org/3/items/esc-us/ESC-US.zip\n",
      "Resolving ia801507.us.archive.org (ia801507.us.archive.org)... 207.241.228.157\n",
      "Connecting to ia801507.us.archive.org (ia801507.us.archive.org)|207.241.228.157|:443... connected.\n",
      "HTTP request sent, awaiting response... 200 OK\n",
      "Length: 28549837854 (27G) [application/zip]\n",
      "Saving to: ‘ESC-US.zip’\n",
      "\n",
      "ESC-US.zip          100%[===================>]  26.59G  1.29MB/s    in 7h 0m   \n",
      "\n",
      "2021-07-06 19:38:45 (1.08 MB/s) - ‘ESC-US.zip’ saved [28549837854/28549837854]\n",
      "\n"
     ]
    }
   ],
   "source": [
    "!cd data && wget https://archive.org/download/esc-us/ESC-US.zip && unzip -q ESC-US.zip"
   ]
  },
  {
   "cell_type": "code",
   "execution_count": 10,
   "metadata": {},
   "outputs": [
    {
     "name": "stdout",
     "output_type": "stream",
     "text": [
      "\u001b[0m\u001b[01;34maudio\u001b[0m/  \u001b[01;32mESC-US.csv\u001b[0m*  \u001b[01;31mESC-US.zip\u001b[0m  \u001b[01;32mREADME.txt\u001b[0m*\r\n"
     ]
    }
   ],
   "source": [
    "ls data/"
   ]
  },
  {
   "cell_type": "markdown",
   "metadata": {},
   "source": [
    "And we now have everything that we need!"
   ]
  }
 ],
 "metadata": {
  "kernelspec": {
   "display_name": "Python 3",
   "language": "python",
   "name": "python3"
  },
  "language_info": {
   "codemirror_mode": {
    "name": "ipython",
    "version": 3
   },
   "file_extension": ".py",
   "mimetype": "text/x-python",
   "name": "python",
   "nbconvert_exporter": "python",
   "pygments_lexer": "ipython3",
   "version": "3.7.6"
  }
 },
 "nbformat": 4,
 "nbformat_minor": 4
}
