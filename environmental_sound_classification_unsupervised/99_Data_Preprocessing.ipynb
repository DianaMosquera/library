{
 "cells": [
  {
   "cell_type": "markdown",
   "metadata": {},
   "source": [
    "# Data Preprocessing\n",
    "\n",
    "I downloaded the dataset from the [Harvard Dataverse](https://dataverse.harvard.edu/dataset.xhtml?persistentId=doi:10.7910/DVN/YDEPUT), but the download was cumbersome. You have to click each individual file, accept changes - AFAICT, there is also no way to download the files from a headless server.\n",
    "\n",
    "We will try to expose the data in some more human and computer friendly fashion.\n",
    "\n",
    "Here is the data that we have."
   ]
  },
  {
   "cell_type": "code",
   "execution_count": 4,
   "metadata": {},
   "outputs": [
    {
     "name": "stdout",
     "output_type": "stream",
     "text": [
      "\u001b[0m\u001b[01;31mESC-US-00.tar.gz\u001b[0m  \u001b[01;31mESC-US-07.tar.gz\u001b[0m  \u001b[01;31mESC-US-14.tar.gz\u001b[0m  \u001b[01;31mESC-US-21.tar.gz\u001b[0m\r\n",
      "\u001b[01;31mESC-US-01.tar.gz\u001b[0m  \u001b[01;31mESC-US-08.tar.gz\u001b[0m  \u001b[01;31mESC-US-15.tar.gz\u001b[0m  \u001b[01;31mESC-US-22.tar.gz\u001b[0m\r\n",
      "\u001b[01;31mESC-US-02.tar.gz\u001b[0m  \u001b[01;31mESC-US-09.tar.gz\u001b[0m  \u001b[01;31mESC-US-16.tar.gz\u001b[0m  \u001b[01;31mESC-US-23.tar.gz\u001b[0m\r\n",
      "\u001b[01;31mESC-US-03.tar.gz\u001b[0m  \u001b[01;31mESC-US-10.tar.gz\u001b[0m  \u001b[01;31mESC-US-17.tar.gz\u001b[0m  \u001b[01;31mESC-US-24.tar.gz\u001b[0m\r\n",
      "\u001b[01;31mESC-US-04.tar.gz\u001b[0m  \u001b[01;31mESC-US-11.tar.gz\u001b[0m  \u001b[01;31mESC-US-18.tar.gz\u001b[0m  \u001b[01;31mESC-US-25.tar.gz\u001b[0m\r\n",
      "\u001b[01;31mESC-US-05.tar.gz\u001b[0m  \u001b[01;31mESC-US-12.tar.gz\u001b[0m  \u001b[01;31mESC-US-19.tar.gz\u001b[0m\r\n",
      "\u001b[01;31mESC-US-06.tar.gz\u001b[0m  \u001b[01;31mESC-US-13.tar.gz\u001b[0m  \u001b[01;31mESC-US-20.tar.gz\u001b[0m\r\n"
     ]
    }
   ],
   "source": [
    "ls data/"
   ]
  },
  {
   "cell_type": "code",
   "execution_count": 23,
   "metadata": {},
   "outputs": [],
   "source": [
    "from pathlib2 import Path\n",
    "from glob import glob\n",
    "import os"
   ]
  },
  {
   "cell_type": "code",
   "execution_count": 20,
   "metadata": {},
   "outputs": [],
   "source": [
    "os.chdir('data')"
   ]
  },
  {
   "cell_type": "code",
   "execution_count": 28,
   "metadata": {},
   "outputs": [
    {
     "name": "stdout",
     "output_type": "stream",
     "text": [
      "ESC-US-02.tar.gz\n",
      "ESC-US-05.tar.gz\n",
      "ESC-US-18.tar.gz\n",
      "ESC-US-13.tar.gz\n",
      "ESC-US-15.tar.gz\n",
      "ESC-US-03.tar.gz\n",
      "ESC-US-17.tar.gz\n",
      "ESC-US-04.tar.gz\n",
      "ESC-US-07.tar.gz\n",
      "ESC-US-09.tar.gz\n",
      "ESC-US-11.tar.gz\n",
      "ESC-US-22.tar.gz\n",
      "ESC-US-14.tar.gz\n",
      "ESC-US-24.tar.gz\n",
      "ESC-US-12.tar.gz\n",
      "ESC-US-06.tar.gz\n",
      "ESC-US-21.tar.gz\n",
      "ESC-US-16.tar.gz\n",
      "ESC-US-25.tar.gz\n",
      "ESC-US-00.tar.gz\n",
      "ESC-US-08.tar.gz\n",
      "ESC-US-19.tar.gz\n",
      "ESC-US-20.tar.gz\n",
      "ESC-US-10.tar.gz\n",
      "ESC-US-23.tar.gz\n",
      "ESC-US-01.tar.gz\n",
      "CPU times: user 7.05 s, sys: 1.63 s, total: 8.68 s\n",
      "Wall time: 5min 42s\n"
     ]
    }
   ],
   "source": [
    "%%time\n",
    "\n",
    "for fn in glob('*.tar.gz'):\n",
    "    print(fn)\n",
    "    !tar -xzf {fn}"
   ]
  },
  {
   "cell_type": "markdown",
   "metadata": {},
   "source": [
    "And here is the data we extracted"
   ]
  },
  {
   "cell_type": "code",
   "execution_count": 32,
   "metadata": {},
   "outputs": [
    {
     "name": "stdout",
     "output_type": "stream",
     "text": [
      "\u001b[0m\u001b[01;34mESC-US\u001b[0m/           \u001b[01;31mESC-US-07.tar.gz\u001b[0m  \u001b[01;31mESC-US-15.tar.gz\u001b[0m  \u001b[01;31mESC-US-23.tar.gz\u001b[0m\r\n",
      "\u001b[01;31mESC-US-00.tar.gz\u001b[0m  \u001b[01;31mESC-US-08.tar.gz\u001b[0m  \u001b[01;31mESC-US-16.tar.gz\u001b[0m  \u001b[01;31mESC-US-24.tar.gz\u001b[0m\r\n",
      "\u001b[01;31mESC-US-01.tar.gz\u001b[0m  \u001b[01;31mESC-US-09.tar.gz\u001b[0m  \u001b[01;31mESC-US-17.tar.gz\u001b[0m  \u001b[01;31mESC-US-25.tar.gz\u001b[0m\r\n",
      "\u001b[01;31mESC-US-02.tar.gz\u001b[0m  \u001b[01;31mESC-US-10.tar.gz\u001b[0m  \u001b[01;31mESC-US-18.tar.gz\u001b[0m  \u001b[01;32mESC-US.csv\u001b[0m*\r\n",
      "\u001b[01;31mESC-US-03.tar.gz\u001b[0m  \u001b[01;31mESC-US-11.tar.gz\u001b[0m  \u001b[01;31mESC-US-19.tar.gz\u001b[0m  \u001b[01;32mREADME.txt\u001b[0m*\r\n",
      "\u001b[01;31mESC-US-04.tar.gz\u001b[0m  \u001b[01;31mESC-US-12.tar.gz\u001b[0m  \u001b[01;31mESC-US-20.tar.gz\u001b[0m\r\n",
      "\u001b[01;31mESC-US-05.tar.gz\u001b[0m  \u001b[01;31mESC-US-13.tar.gz\u001b[0m  \u001b[01;31mESC-US-21.tar.gz\u001b[0m\r\n",
      "\u001b[01;31mESC-US-06.tar.gz\u001b[0m  \u001b[01;31mESC-US-14.tar.gz\u001b[0m  \u001b[01;31mESC-US-22.tar.gz\u001b[0m\r\n"
     ]
    }
   ],
   "source": [
    "ls"
   ]
  },
  {
   "cell_type": "markdown",
   "metadata": {},
   "source": [
    "The `README.txt` is quite instructive -- let's take a closer look at it."
   ]
  },
  {
   "cell_type": "code",
   "execution_count": 33,
   "metadata": {},
   "outputs": [
    {
     "name": "stdout",
     "output_type": "stream",
     "text": [
      "# ESC-US: Dataset for Environmental Sound Classification\r",
      "\r\n",
      "# https://dx.doi.org/10.7910/DVN/YDEPUT\r",
      "\r\n",
      "\r",
      "\r\n",
      "The ESC-US dataset is a supplementary unlabeled part of the ESC dataset consisting of\r",
      "\r\n",
      "250 000 environmental recordings (5-second-long clips) suitable for unsupervised pre-training,\r",
      "\r\n",
      "clustering and manifold learning experiments.\r",
      "\r\n",
      "\r",
      "\r\n",
      "The dataset, although not hand-annotated, includes the labels (tags) submitted by the original\r",
      "\r\n",
      "uploading users. This way the dataset could be also potentially used in weakly supervised\r",
      "\r\n",
      "(noisy and/or missing labels) learning experiments.\r",
      "\r\n",
      "\r",
      "\r\n",
      "## File naming scheme\r",
      "\r\n",
      "\r",
      "\r\n",
      "ID-Freesound_file_ID-slice_start_time-slice_end_time.ogg\r",
      "\r\n",
      "\r",
      "\r\n",
      "ID - ESC-US file identifier\r",
      "\r\n",
      "Freesound_file_ID - ID of the original Freesound recording from which the clip has been extracted\r",
      "\r\n",
      "slice_start_time / slice_end_time - start/end time for the extracted part\r",
      "\r\n",
      "\r",
      "\r\n",
      "The dataset recordings are arranged in 25 directories, 10 000 clips each, available as\r",
      "\r\n",
      "separate compressed files.\r",
      "\r\n",
      "\r",
      "\r\n",
      "## File details\r",
      "\r\n",
      "\r",
      "\r\n",
      "5-second-long recordings reconverted to a unified format:\r",
      "\r\n",
      "- 44100 Hz,\r",
      "\r\n",
      "- single channel (monophonic),\r",
      "\r\n",
      "- Vorbis/Ogg compression @ 192 kbit/s. \r",
      "\r\n",
      "\r",
      "\r\n",
      "## License\r",
      "\r\n",
      "\r",
      "\r\n",
      "The dataset is available under the terms of the Creative Commons\r",
      "\r\n",
      "Attribution-NonCommercial license (http://creativecommons.org/licenses/by-nc/3.0/).\r",
      "\r\n",
      "\r",
      "\r\n",
      "## Attribution / metadata\r",
      "\r\n",
      "\r",
      "\r\n",
      "The ESC-US.csv file lists the details of the original Freesound recordings used to create the dataset."
     ]
    }
   ],
   "source": [
    "cat README.txt"
   ]
  },
  {
   "cell_type": "markdown",
   "metadata": {},
   "source": [
    "The directory, `ESC-US`, contains all of the audio files."
   ]
  },
  {
   "cell_type": "code",
   "execution_count": 41,
   "metadata": {},
   "outputs": [
    {
     "name": "stdout",
     "output_type": "stream",
     "text": [
      "\u001b[0m\u001b[01;34m01\u001b[0m/  \u001b[01;34m03\u001b[0m/  \u001b[01;34m05\u001b[0m/  \u001b[01;34m07\u001b[0m/  \u001b[01;34m09\u001b[0m/  \u001b[01;34m11\u001b[0m/  \u001b[01;34m13\u001b[0m/  \u001b[01;34m15\u001b[0m/  \u001b[01;34m17\u001b[0m/  \u001b[01;34m19\u001b[0m/  \u001b[01;34m21\u001b[0m/  \u001b[01;34m23\u001b[0m/  \u001b[01;34m25\u001b[0m/\r\n",
      "\u001b[01;34m02\u001b[0m/  \u001b[01;34m04\u001b[0m/  \u001b[01;34m06\u001b[0m/  \u001b[01;34m08\u001b[0m/  \u001b[01;34m10\u001b[0m/  \u001b[01;34m12\u001b[0m/  \u001b[01;34m14\u001b[0m/  \u001b[01;34m16\u001b[0m/  \u001b[01;34m18\u001b[0m/  \u001b[01;34m20\u001b[0m/  \u001b[01;34m22\u001b[0m/  \u001b[01;34m24\u001b[0m/\r\n"
     ]
    }
   ],
   "source": [
    "ls ESC-US"
   ]
  },
  {
   "cell_type": "markdown",
   "metadata": {},
   "source": [
    "The files are spread across 25 directories. For convenience, it would be nice to have all of this data in a single folder. \n",
    "\n",
    "Having 250_000 thousand files in a single directory should be okay. Let's give this a shot."
   ]
  },
  {
   "cell_type": "code",
   "execution_count": 43,
   "metadata": {},
   "outputs": [],
   "source": [
    "mkdir audio"
   ]
  },
  {
   "cell_type": "code",
   "execution_count": 47,
   "metadata": {},
   "outputs": [],
   "source": [
    "audio_fns = glob('ESC-US/**/*.ogg')"
   ]
  },
  {
   "cell_type": "code",
   "execution_count": 48,
   "metadata": {},
   "outputs": [
    {
     "data": {
      "text/plain": [
       "250000"
      ]
     },
     "execution_count": 48,
     "metadata": {},
     "output_type": "execute_result"
    }
   ],
   "source": [
    "len(audio_fns)"
   ]
  },
  {
   "cell_type": "code",
   "execution_count": 50,
   "metadata": {},
   "outputs": [],
   "source": [
    "import shutil"
   ]
  },
  {
   "cell_type": "code",
   "execution_count": 54,
   "metadata": {},
   "outputs": [
    {
     "name": "stdout",
     "output_type": "stream",
     "text": [
      "CPU times: user 36 s, sys: 1min 58s, total: 2min 34s\n",
      "Wall time: 10min 32s\n"
     ]
    }
   ],
   "source": [
    "%%time\n",
    "\n",
    "for fn in audio_fns:\n",
    "    shutil.copy(fn, 'audio')"
   ]
  },
  {
   "cell_type": "markdown",
   "metadata": {},
   "source": [
    "Let's zip everything together."
   ]
  },
  {
   "cell_type": "code",
   "execution_count": 59,
   "metadata": {},
   "outputs": [
    {
     "name": "stdout",
     "output_type": "stream",
     "text": [
      "CPU times: user 41.3 s, sys: 10 s, total: 51.3 s\n",
      "Wall time: 28min 35s\n"
     ]
    }
   ],
   "source": [
    "%%time\n",
    "\n",
    "!zip -qr ESC-US.zip audio README.txt ESC-US.csv"
   ]
  }
 ],
 "metadata": {
  "kernelspec": {
   "display_name": "Python 3",
   "language": "python",
   "name": "python3"
  },
  "language_info": {
   "codemirror_mode": {
    "name": "ipython",
    "version": 3
   },
   "file_extension": ".py",
   "mimetype": "text/x-python",
   "name": "python",
   "nbconvert_exporter": "python",
   "pygments_lexer": "ipython3",
   "version": "3.7.6"
  }
 },
 "nbformat": 4,
 "nbformat_minor": 4
}
