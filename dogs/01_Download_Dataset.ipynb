{
 "cells": [
  {
   "cell_type": "markdown",
   "metadata": {},
   "source": [
    "# Download Dataset"
   ]
  },
  {
   "cell_type": "code",
   "execution_count": 4,
   "metadata": {},
   "outputs": [],
   "source": [
    "mkdir data"
   ]
  },
  {
   "cell_type": "code",
   "execution_count": 5,
   "metadata": {},
   "outputs": [
    {
     "name": "stdout",
     "output_type": "stream",
     "text": [
      "--2021-02-15 11:40:18--  https://archive.org/download/dog_barks/dog_barks.zip\n",
      "Resolving archive.org (archive.org)... 207.241.224.2\n",
      "Connecting to archive.org (archive.org)|207.241.224.2|:443... connected.\n",
      "HTTP request sent, awaiting response... 302 Found\n",
      "Location: https://ia801405.us.archive.org/26/items/dog_barks/dog_barks.zip [following]\n",
      "--2021-02-15 11:40:18--  https://ia801405.us.archive.org/26/items/dog_barks/dog_barks.zip\n",
      "Resolving ia801405.us.archive.org (ia801405.us.archive.org)... 207.241.228.145\n",
      "Connecting to ia801405.us.archive.org (ia801405.us.archive.org)|207.241.228.145|:443... connected.\n",
      "HTTP request sent, awaiting response... 200 OK\n",
      "Length: 901568218 (860M) [application/zip]\n",
      "Saving to: ‘dog_barks.zip’\n",
      "\n",
      "dog_barks.zip       100%[===================>] 859.80M  2.07MB/s    in 5m 9s   \n",
      "\n",
      "2021-02-15 11:45:27 (2.79 MB/s) - ‘dog_barks.zip’ saved [901568218/901568218]\n",
      "\n"
     ]
    }
   ],
   "source": [
    "!cd data && wget https://archive.org/download/dog_barks/dog_barks.zip && unzip -q dog_barks.zip"
   ]
  },
  {
   "cell_type": "markdown",
   "metadata": {},
   "source": [
    "And we now have everything that we need!"
   ]
  },
  {
   "cell_type": "code",
   "execution_count": 6,
   "metadata": {},
   "outputs": [
    {
     "name": "stdout",
     "output_type": "stream",
     "text": [
      "annotations.csv  \u001b[0m\u001b[01;34maudio\u001b[0m/  \u001b[01;31mdog_barks.zip\u001b[0m\r\n"
     ]
    }
   ],
   "source": [
    "ls data"
   ]
  },
  {
   "cell_type": "markdown",
   "metadata": {},
   "source": [
    "The annotations.csv file contains label information. "
   ]
  }
 ],
 "metadata": {
  "kernelspec": {
   "display_name": "Python 3",
   "language": "python",
   "name": "python3"
  },
  "language_info": {
   "codemirror_mode": {
    "name": "ipython",
    "version": 3
   },
   "file_extension": ".py",
   "mimetype": "text/x-python",
   "name": "python",
   "nbconvert_exporter": "python",
   "pygments_lexer": "ipython3",
   "version": "3.7.6"
  }
 },
 "nbformat": 4,
 "nbformat_minor": 4
}
