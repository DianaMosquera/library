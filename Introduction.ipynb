{
  "nbformat": 4,
  "nbformat_minor": 0,
  "metadata": {
    "kernelspec": {
      "name": "python3",
      "display_name": "Python 3"
    },
    "language_info": {
      "codemirror_mode": {
        "name": "ipython",
        "version": 3
      },
      "file_extension": ".py",
      "mimetype": "text/x-python",
      "name": "python",
      "nbconvert_exporter": "python",
      "pygments_lexer": "ipython3",
      "version": "3.7.6"
    },
    "colab": {
      "name": "Introduction.ipynb",
      "provenance": [],
      "include_colab_link": true
    },
    "accelerator": "GPU",
    "widgets": {
      "application/vnd.jupyter.widget-state+json": {
        "fa2397bc326c46209d9310a6b91f7425": {
          "model_module": "@jupyter-widgets/controls",
          "model_name": "HBoxModel",
          "state": {
            "_view_name": "HBoxView",
            "_dom_classes": [],
            "_model_name": "HBoxModel",
            "_view_module": "@jupyter-widgets/controls",
            "_model_module_version": "1.5.0",
            "_view_count": null,
            "_view_module_version": "1.5.0",
            "box_style": "",
            "layout": "IPY_MODEL_2700053e7b974856bc826d1115a56243",
            "_model_module": "@jupyter-widgets/controls",
            "children": [
              "IPY_MODEL_f9f55bae6d17465881ff8e0c32c26a3c",
              "IPY_MODEL_d320a2e4d1bd43db89bcc12a92d0da80"
            ]
          }
        },
        "2700053e7b974856bc826d1115a56243": {
          "model_module": "@jupyter-widgets/base",
          "model_name": "LayoutModel",
          "state": {
            "_view_name": "LayoutView",
            "grid_template_rows": null,
            "right": null,
            "justify_content": null,
            "_view_module": "@jupyter-widgets/base",
            "overflow": null,
            "_model_module_version": "1.2.0",
            "_view_count": null,
            "flex_flow": null,
            "width": null,
            "min_width": null,
            "border": null,
            "align_items": null,
            "bottom": null,
            "_model_module": "@jupyter-widgets/base",
            "top": null,
            "grid_column": null,
            "overflow_y": null,
            "overflow_x": null,
            "grid_auto_flow": null,
            "grid_area": null,
            "grid_template_columns": null,
            "flex": null,
            "_model_name": "LayoutModel",
            "justify_items": null,
            "grid_row": null,
            "max_height": null,
            "align_content": null,
            "visibility": null,
            "align_self": null,
            "height": null,
            "min_height": null,
            "padding": null,
            "grid_auto_rows": null,
            "grid_gap": null,
            "max_width": null,
            "order": null,
            "_view_module_version": "1.2.0",
            "grid_template_areas": null,
            "object_position": null,
            "object_fit": null,
            "grid_auto_columns": null,
            "margin": null,
            "display": null,
            "left": null
          }
        },
        "f9f55bae6d17465881ff8e0c32c26a3c": {
          "model_module": "@jupyter-widgets/controls",
          "model_name": "IntProgressModel",
          "state": {
            "_view_name": "ProgressView",
            "style": "IPY_MODEL_15001e72a2384ea2a1486ec590875b28",
            "_dom_classes": [],
            "description": "100%",
            "_model_name": "IntProgressModel",
            "bar_style": "success",
            "max": 46827520,
            "_view_module": "@jupyter-widgets/controls",
            "_model_module_version": "1.5.0",
            "value": 46827520,
            "_view_count": null,
            "_view_module_version": "1.5.0",
            "orientation": "horizontal",
            "min": 0,
            "description_tooltip": null,
            "_model_module": "@jupyter-widgets/controls",
            "layout": "IPY_MODEL_bad8230c12da4ebbb67b018463268713"
          }
        },
        "d320a2e4d1bd43db89bcc12a92d0da80": {
          "model_module": "@jupyter-widgets/controls",
          "model_name": "HTMLModel",
          "state": {
            "_view_name": "HTMLView",
            "style": "IPY_MODEL_b91963436fc64c108fbd75ec9aaba36f",
            "_dom_classes": [],
            "description": "",
            "_model_name": "HTMLModel",
            "placeholder": "​",
            "_view_module": "@jupyter-widgets/controls",
            "_model_module_version": "1.5.0",
            "value": " 44.7M/44.7M [03:16&lt;00:00, 238kB/s]",
            "_view_count": null,
            "_view_module_version": "1.5.0",
            "description_tooltip": null,
            "_model_module": "@jupyter-widgets/controls",
            "layout": "IPY_MODEL_922ff1ef057946e5a55a59e701544745"
          }
        },
        "15001e72a2384ea2a1486ec590875b28": {
          "model_module": "@jupyter-widgets/controls",
          "model_name": "ProgressStyleModel",
          "state": {
            "_view_name": "StyleView",
            "_model_name": "ProgressStyleModel",
            "description_width": "initial",
            "_view_module": "@jupyter-widgets/base",
            "_model_module_version": "1.5.0",
            "_view_count": null,
            "_view_module_version": "1.2.0",
            "bar_color": null,
            "_model_module": "@jupyter-widgets/controls"
          }
        },
        "bad8230c12da4ebbb67b018463268713": {
          "model_module": "@jupyter-widgets/base",
          "model_name": "LayoutModel",
          "state": {
            "_view_name": "LayoutView",
            "grid_template_rows": null,
            "right": null,
            "justify_content": null,
            "_view_module": "@jupyter-widgets/base",
            "overflow": null,
            "_model_module_version": "1.2.0",
            "_view_count": null,
            "flex_flow": null,
            "width": null,
            "min_width": null,
            "border": null,
            "align_items": null,
            "bottom": null,
            "_model_module": "@jupyter-widgets/base",
            "top": null,
            "grid_column": null,
            "overflow_y": null,
            "overflow_x": null,
            "grid_auto_flow": null,
            "grid_area": null,
            "grid_template_columns": null,
            "flex": null,
            "_model_name": "LayoutModel",
            "justify_items": null,
            "grid_row": null,
            "max_height": null,
            "align_content": null,
            "visibility": null,
            "align_self": null,
            "height": null,
            "min_height": null,
            "padding": null,
            "grid_auto_rows": null,
            "grid_gap": null,
            "max_width": null,
            "order": null,
            "_view_module_version": "1.2.0",
            "grid_template_areas": null,
            "object_position": null,
            "object_fit": null,
            "grid_auto_columns": null,
            "margin": null,
            "display": null,
            "left": null
          }
        },
        "b91963436fc64c108fbd75ec9aaba36f": {
          "model_module": "@jupyter-widgets/controls",
          "model_name": "DescriptionStyleModel",
          "state": {
            "_view_name": "StyleView",
            "_model_name": "DescriptionStyleModel",
            "description_width": "",
            "_view_module": "@jupyter-widgets/base",
            "_model_module_version": "1.5.0",
            "_view_count": null,
            "_view_module_version": "1.2.0",
            "_model_module": "@jupyter-widgets/controls"
          }
        },
        "922ff1ef057946e5a55a59e701544745": {
          "model_module": "@jupyter-widgets/base",
          "model_name": "LayoutModel",
          "state": {
            "_view_name": "LayoutView",
            "grid_template_rows": null,
            "right": null,
            "justify_content": null,
            "_view_module": "@jupyter-widgets/base",
            "overflow": null,
            "_model_module_version": "1.2.0",
            "_view_count": null,
            "flex_flow": null,
            "width": null,
            "min_width": null,
            "border": null,
            "align_items": null,
            "bottom": null,
            "_model_module": "@jupyter-widgets/base",
            "top": null,
            "grid_column": null,
            "overflow_y": null,
            "overflow_x": null,
            "grid_auto_flow": null,
            "grid_area": null,
            "grid_template_columns": null,
            "flex": null,
            "_model_name": "LayoutModel",
            "justify_items": null,
            "grid_row": null,
            "max_height": null,
            "align_content": null,
            "visibility": null,
            "align_self": null,
            "height": null,
            "min_height": null,
            "padding": null,
            "grid_auto_rows": null,
            "grid_gap": null,
            "max_width": null,
            "order": null,
            "_view_module_version": "1.2.0",
            "grid_template_areas": null,
            "object_position": null,
            "object_fit": null,
            "grid_auto_columns": null,
            "margin": null,
            "display": null,
            "left": null
          }
        }
      }
    }
  },
  "cells": [
    {
      "cell_type": "markdown",
      "metadata": {
        "id": "view-in-github",
        "colab_type": "text"
      },
      "source": [
        "<a href=\"https://colab.research.google.com/github/earthspecies/open_collaboration_on_audio_classification/blob/master/Introduction.ipynb\" target=\"_parent\"><img src=\"https://colab.research.google.com/assets/colab-badge.svg\" alt=\"Open In Colab\"/></a>"
      ]
    },
    {
      "cell_type": "code",
      "metadata": {
        "id": "z4Xmcn0EIAA4",
        "colab_type": "code",
        "colab": {}
      },
      "source": [
        "%%capture\n",
        "import sys\n",
        "if 'google.colab' in sys.modules:\n",
        "  !pip install git+git://github.com/fastai/fastai2.git\n",
        "  !pip install torchaudio\n",
        "\n",
        "from fastai2.vision.all import *\n",
        "import torchaudio"
      ],
      "execution_count": 0,
      "outputs": []
    },
    {
      "cell_type": "markdown",
      "metadata": {
        "id": "UzCr_fjga0hX",
        "colab_type": "text"
      },
      "source": [
        "Being able to identify the speaker is believed to be a necessary component of a language.\n",
        "\n",
        "Can you share a way of working with the audio data? This could be very helpful to researchers who might be very familiar with digital signal processing techniques, but who maybe haven't had such a broad exposure to deep learning. Also, there are probably quite a lot of people across the world (students, hobbyists) who could benefit greatly from your work!\n",
        "\n",
        "Below I include some starter code to get you going. Would be great if this could turn into a collaborative effort where we could collect in this repository notebooks from contributors showing various ways of working with the data 🙂\n",
        "\n",
        "To make it even more interesting, I am proposing a particular way of splitting the data into train and validation sets. If you follow this way of splitting in your notebooks, we will be able to compare the results!\n",
        "\n",
        "The dataset we will use is a collection of macaque coo call recordings collected for the [Distributed acoustic cues for caller identity in macaque vocalization](https://www.ncbi.nlm.nih.gov/pmc/articles/PMC4806230/).\n",
        "\n",
        "You can access the URL of the dataset in `fastai` as follows: `URLs.MACAQUES`. The problem is though that some of the samples were recorded using higher sampling rate. The resampling operation is relatively compute intensive and it is prohibitively costly to be run on colab (though I feel this tells more about the throttling colab does to the vCpus than how expensive the oepration is - locally for me it takes 18 seconds, on colab 20 minutes!). Either way, to accomodate people runnig this code on colab, instead of doing:\n",
        "\n",
        "```path = untar_data(URLs.MACAQUES)```\n",
        "\n",
        "We will do"
      ]
    },
    {
      "cell_type": "code",
      "metadata": {
        "id": "jlBLj423a0hY",
        "colab_type": "code",
        "colab": {
          "base_uri": "https://localhost:8080/",
          "height": 17
        },
        "outputId": "fbc5d104-6bf2-4df3-822f-f56855c34f62"
      },
      "source": [
        "path = untar_data('https://storage.googleapis.com/ml-animal-sounds-datasets/macaques_24414Hz.zip')"
      ],
      "execution_count": 2,
      "outputs": [
        {
          "output_type": "display_data",
          "data": {
            "text/html": [
              ""
            ],
            "text/plain": [
              "<IPython.core.display.HTML object>"
            ]
          },
          "metadata": {
            "tags": []
          }
        }
      ]
    },
    {
      "cell_type": "markdown",
      "metadata": {
        "id": "YaNhJPmua0ha",
        "colab_type": "text"
      },
      "source": [
        "There are 7285 coo calls recorded (stored in wav files) from 8 individuals. They are organized in directories, where a directory groups calls from a single macaque."
      ]
    },
    {
      "cell_type": "code",
      "metadata": {
        "id": "slOwEPnCa0hb",
        "colab_type": "code",
        "colab": {
          "base_uri": "https://localhost:8080/",
          "height": 54
        },
        "outputId": "d52e838e-edd2-4e53-82f2-f3c4d42477e9"
      },
      "source": [
        "path.ls()"
      ],
      "execution_count": 3,
      "outputs": [
        {
          "output_type": "execute_result",
          "data": {
            "text/plain": [
              "(#8) [Path('/root/.fastai/data/macaques_24414Hz/BE'),Path('/root/.fastai/data/macaques_24414Hz/TH'),Path('/root/.fastai/data/macaques_24414Hz/SN'),Path('/root/.fastai/data/macaques_24414Hz/AL'),Path('/root/.fastai/data/macaques_24414Hz/MU'),Path('/root/.fastai/data/macaques_24414Hz/IO'),Path('/root/.fastai/data/macaques_24414Hz/TW'),Path('/root/.fastai/data/macaques_24414Hz/QU')]"
            ]
          },
          "metadata": {
            "tags": []
          },
          "execution_count": 3
        }
      ]
    },
    {
      "cell_type": "markdown",
      "metadata": {
        "id": "NYqiGbQva0he",
        "colab_type": "text"
      },
      "source": [
        "Let's listen to one of the calls in our browser!"
      ]
    },
    {
      "cell_type": "code",
      "metadata": {
        "id": "4Tlah7cba0he",
        "colab_type": "code",
        "colab": {}
      },
      "source": [
        "import pathlib\n",
        "from IPython.display import Audio"
      ],
      "execution_count": 0,
      "outputs": []
    },
    {
      "cell_type": "code",
      "metadata": {
        "id": "6sUk1UZBa0hh",
        "colab_type": "code",
        "colab": {
          "base_uri": "https://localhost:8080/",
          "height": 54
        },
        "outputId": "642d8aa5-6112-48f4-bcbc-7a9040e4f595"
      },
      "source": [
        "wav_files = get_files(path); wav_files"
      ],
      "execution_count": 5,
      "outputs": [
        {
          "output_type": "execute_result",
          "data": {
            "text/plain": [
              "(#7285) [Path('/root/.fastai/data/macaques_24414Hz/BE/BE214.wav'),Path('/root/.fastai/data/macaques_24414Hz/BE/BE139.wav'),Path('/root/.fastai/data/macaques_24414Hz/BE/BE460.wav'),Path('/root/.fastai/data/macaques_24414Hz/BE/BE405.wav'),Path('/root/.fastai/data/macaques_24414Hz/BE/BE328.wav'),Path('/root/.fastai/data/macaques_24414Hz/BE/BE50.wav'),Path('/root/.fastai/data/macaques_24414Hz/BE/BE224.wav'),Path('/root/.fastai/data/macaques_24414Hz/BE/BE265.wav'),Path('/root/.fastai/data/macaques_24414Hz/BE/BE340.wav'),Path('/root/.fastai/data/macaques_24414Hz/BE/BE436.wav')...]"
            ]
          },
          "metadata": {
            "tags": []
          },
          "execution_count": 5
        }
      ]
    },
    {
      "cell_type": "code",
      "metadata": {
        "id": "upKxG0Sra0hj",
        "colab_type": "code",
        "colab": {
          "base_uri": "https://localhost:8080/",
          "height": 75
        },
        "outputId": "69108133-ecc7-4453-9722-1fa2a4708a01"
      },
      "source": [
        "Audio(filename=wav_files[0])"
      ],
      "execution_count": 6,
      "outputs": [
        {
          "output_type": "execute_result",
          "data": {
            "text/html": [
              "\n",
              "                <audio controls=\"controls\" >\n",
              "                    <source src=\"data:audio/x-wav;base64,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\" type=\"audio/x-wav\" />\n",
              "                    Your browser does not support the audio element.\n",
              "                </audio>\n",
              "              "
            ],
            "text/plain": [
              "<IPython.lib.display.Audio object>"
            ]
          },
          "metadata": {
            "tags": []
          },
          "execution_count": 6
        }
      ]
    },
    {
      "cell_type": "markdown",
      "metadata": {
        "id": "4DJJOP7ya0hn",
        "colab_type": "text"
      },
      "source": [
        "Did you here the 'coo'? 🙂 Great!\n",
        "\n",
        "This is what the path to a single recording looks like"
      ]
    },
    {
      "cell_type": "code",
      "metadata": {
        "id": "xL-YdleRa0hn",
        "colab_type": "code",
        "colab": {
          "base_uri": "https://localhost:8080/",
          "height": 34
        },
        "outputId": "f14bcc4a-c6d8-416a-fc45-3b5e2a279a99"
      },
      "source": [
        "wav_files[0]"
      ],
      "execution_count": 7,
      "outputs": [
        {
          "output_type": "execute_result",
          "data": {
            "text/plain": [
              "Path('/root/.fastai/data/macaques_24414Hz/BE/BE214.wav')"
            ]
          },
          "metadata": {
            "tags": []
          },
          "execution_count": 7
        }
      ]
    },
    {
      "cell_type": "markdown",
      "metadata": {
        "id": "SD92l5Kta0hp",
        "colab_type": "text"
      },
      "source": [
        "This recording comes from an individual codenamed 'MU'. We can grab that information from the path as follows:"
      ]
    },
    {
      "cell_type": "code",
      "metadata": {
        "id": "glevR97Ba0hq",
        "colab_type": "code",
        "colab": {
          "base_uri": "https://localhost:8080/",
          "height": 34
        },
        "outputId": "49ad6fc1-ce88-4beb-9471-bdf333b6414c"
      },
      "source": [
        "wav_files[0].parent.stem"
      ],
      "execution_count": 8,
      "outputs": [
        {
          "output_type": "execute_result",
          "data": {
            "text/plain": [
              "'BE'"
            ]
          },
          "metadata": {
            "tags": []
          },
          "execution_count": 8
        }
      ]
    },
    {
      "cell_type": "markdown",
      "metadata": {
        "id": "xjNe5gv_a0hs",
        "colab_type": "text"
      },
      "source": [
        "Let's read all of the data and see what else we can learn."
      ]
    },
    {
      "cell_type": "code",
      "metadata": {
        "id": "PD7g9A_ja0ht",
        "colab_type": "code",
        "colab": {}
      },
      "source": [
        "import librosa # the librosa library makes it very convenient to work with audio files in Python"
      ],
      "execution_count": 0,
      "outputs": []
    },
    {
      "cell_type": "code",
      "metadata": {
        "id": "RnFH4NeOc5W-",
        "colab_type": "code",
        "colab": {
          "base_uri": "https://localhost:8080/",
          "height": 51
        },
        "outputId": "53c26e02-ca20-46fe-8b24-8d026f01a520"
      },
      "source": [
        "%%time\n",
        "target_rate=24414\n",
        "audio, names = L(), L()\n",
        "\n",
        "for fp in wav_files:\n",
        "    x, rate = torchaudio.load_wav(fp)\n",
        "    if rate != target_rate: \n",
        "      x = torchaudio.transforms.Resample(orig_freq=rate, new_freq=24414, resampling_method='sinc_interpolation')(x)\n",
        "    names.append(fp.parent.stem)\n",
        "    audio.append(x[0] / 32767)"
      ],
      "execution_count": 10,
      "outputs": [
        {
          "output_type": "stream",
          "text": [
            "CPU times: user 1.32 s, sys: 403 ms, total: 1.72 s\n",
            "Wall time: 1.76 s\n"
          ],
          "name": "stdout"
        }
      ]
    },
    {
      "cell_type": "markdown",
      "metadata": {
        "id": "OPftLZ5Xa0hx",
        "colab_type": "text"
      },
      "source": [
        "The recording of a sound is nothing more than samples of the air pressure taken by the microphone some number of times (sampling rate) per second. All this gets stored in an array. I've created a bit of a primer on this [here](https://github.com/earthspecies/from_zero_to_DSP), if you would like to learn more."
      ]
    },
    {
      "cell_type": "code",
      "metadata": {
        "id": "ruFCdvFka0hy",
        "colab_type": "code",
        "colab": {
          "base_uri": "https://localhost:8080/",
          "height": 34
        },
        "outputId": "ea9cfba6-9caa-4c65-b447-38419b2c7752"
      },
      "source": [
        "audio[100]"
      ],
      "execution_count": 11,
      "outputs": [
        {
          "output_type": "execute_result",
          "data": {
            "text/plain": [
              "tensor([-0.0012, -0.0017, -0.0022,  ..., -0.0010, -0.0015, -0.0020])"
            ]
          },
          "metadata": {
            "tags": []
          },
          "execution_count": 11
        }
      ]
    },
    {
      "cell_type": "markdown",
      "metadata": {
        "id": "iUHEioiRa0h1",
        "colab_type": "text"
      },
      "source": [
        "We can listen to the values in the array!"
      ]
    },
    {
      "cell_type": "code",
      "metadata": {
        "id": "1YO_Tkhna0h2",
        "colab_type": "code",
        "colab": {
          "base_uri": "https://localhost:8080/",
          "height": 75
        },
        "outputId": "f8ffc48f-a50f-4ea9-d6fa-f04af8ece1a5"
      },
      "source": [
        "Audio(audio[100], rate=rate)"
      ],
      "execution_count": 12,
      "outputs": [
        {
          "output_type": "execute_result",
          "data": {
            "text/html": [
              "\n",
              "                <audio controls=\"controls\" >\n",
              "                    <source src=\"data:audio/wav;base64,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\" type=\"audio/wav\" />\n",
              "                    Your browser does not support the audio element.\n",
              "                </audio>\n",
              "              "
            ],
            "text/plain": [
              "<IPython.lib.display.Audio object>"
            ]
          },
          "metadata": {
            "tags": []
          },
          "execution_count": 12
        }
      ]
    },
    {
      "cell_type": "markdown",
      "metadata": {
        "id": "4dryk8Dma0h4",
        "colab_type": "text"
      },
      "source": [
        "Let's look at the duration of calls by indiviual."
      ]
    },
    {
      "cell_type": "code",
      "metadata": {
        "id": "VZp8yPDSa0h5",
        "colab_type": "code",
        "colab": {
          "base_uri": "https://localhost:8080/",
          "height": 265
        },
        "outputId": "fb6334ba-2632-43fc-e4f5-6e838d0f7bfd"
      },
      "source": [
        "import seaborn as sns\n",
        "\n",
        "durations = audio.map(len).map(lambda x: x / rate)\n",
        "\n",
        "for name in names.unique():\n",
        "    mask = names.map(lambda x: x == name)\n",
        "    sns.distplot(durations[mask], label=name)\n",
        "plt.legend();"
      ],
      "execution_count": 13,
      "outputs": [
        {
          "output_type": "display_data",
          "data": {
            "image/png": "[encoded data removed]",
            "text/plain": [
              "<Figure size 432x288 with 1 Axes>"
            ]
          },
          "metadata": {
            "tags": []
          }
        }
      ]
    },
    {
      "cell_type": "markdown",
      "metadata": {
        "id": "A0h-FQQla0h8",
        "colab_type": "text"
      },
      "source": [
        "We see that the calls are of varying length (additionaly, some macaques have a preference for longer calls and other for shorter ones!). This is something we will have to address as we prepare the data for our deep learning model.\n",
        "\n",
        "Let us build our dataloaders using the `DataBlock` api! There are several pieces we will have to tell the `DataBlock` api how to do.\n",
        "\n",
        "* how to get all the items from the dataset\n",
        "* how to label the items\n",
        "* how to read in the items before passing them to the model"
      ]
    },
    {
      "cell_type": "markdown",
      "metadata": {
        "id": "0PaYKKRua0h8",
        "colab_type": "text"
      },
      "source": [
        "Getting all the items is going to be easy - the starting point for our items will be the paths pointing to our files. We already know how obtan this using the `get_files` function provided by fastai."
      ]
    },
    {
      "cell_type": "code",
      "metadata": {
        "id": "GTEeic5Ea0h9",
        "colab_type": "code",
        "colab": {
          "base_uri": "https://localhost:8080/",
          "height": 54
        },
        "outputId": "ae160d65-a30b-4fd1-fa22-1fe73b5047d2"
      },
      "source": [
        "get_files(path)"
      ],
      "execution_count": 14,
      "outputs": [
        {
          "output_type": "execute_result",
          "data": {
            "text/plain": [
              "(#7285) [Path('/root/.fastai/data/macaques_24414Hz/BE/BE214.wav'),Path('/root/.fastai/data/macaques_24414Hz/BE/BE139.wav'),Path('/root/.fastai/data/macaques_24414Hz/BE/BE460.wav'),Path('/root/.fastai/data/macaques_24414Hz/BE/BE405.wav'),Path('/root/.fastai/data/macaques_24414Hz/BE/BE328.wav'),Path('/root/.fastai/data/macaques_24414Hz/BE/BE50.wav'),Path('/root/.fastai/data/macaques_24414Hz/BE/BE224.wav'),Path('/root/.fastai/data/macaques_24414Hz/BE/BE265.wav'),Path('/root/.fastai/data/macaques_24414Hz/BE/BE340.wav'),Path('/root/.fastai/data/macaques_24414Hz/BE/BE436.wav')...]"
            ]
          },
          "metadata": {
            "tags": []
          },
          "execution_count": 14
        }
      ]
    },
    {
      "cell_type": "markdown",
      "metadata": {
        "id": "9jve61FCa0h_",
        "colab_type": "text"
      },
      "source": [
        "Going from an `item` (a path in our case) to a label is going to be straightforward as well. We already saw how can go about this above"
      ]
    },
    {
      "cell_type": "code",
      "metadata": {
        "id": "5sHNbxvYa0iA",
        "colab_type": "code",
        "colab": {
          "base_uri": "https://localhost:8080/",
          "height": 34
        },
        "outputId": "13d81c52-4e19-469f-9835-f9732afc07f3"
      },
      "source": [
        "wav_files[0].parent.stem"
      ],
      "execution_count": 15,
      "outputs": [
        {
          "output_type": "execute_result",
          "data": {
            "text/plain": [
              "'BE'"
            ]
          },
          "metadata": {
            "tags": []
          },
          "execution_count": 15
        }
      ]
    },
    {
      "cell_type": "markdown",
      "metadata": {
        "id": "jGizH9Hfa0iB",
        "colab_type": "text"
      },
      "source": [
        "We also already know how to read in an audio file as a numpy array. But how do we go from this representation to something that we could train our model on?\n",
        "\n",
        "We could build a model straight on the array, it would be very interesting to see how a model like that could perform.\n",
        "\n",
        "There is also another alternative. We could represent our audio as an image and train a regular CNN classifier on it! For many problems presenting your data as an image before feeding it to a model is a state of the art approach.\n",
        "\n",
        "In the case of audio, it seems this approach can work very well for [some problems](https://ai.googleblog.com/2018/10/acoustic-detection-of-humpback-whales.html), though it also has [some limitations](https://towardsdatascience.com/whats-wrong-with-spectrograms-and-cnns-for-audio-processing-311377d7ccd).\n",
        "\n",
        "Devil is in the details - how we train our model, how we prepare the datasets, how we go from audio to an image, all will play a role in the results we get. This is by no means a solved problem - any results you could show through your work could potentially be very useful.\n",
        "\n",
        "Here is one way we could go about preparing our data.\n",
        "\n",
        "We can use torchaudio as before to read it in."
      ]
    },
    {
      "cell_type": "code",
      "metadata": {
        "id": "t3DRKZtidRib",
        "colab_type": "code",
        "colab": {}
      },
      "source": [
        "x, rate = torchaudio.load_wav(fp)\n",
        "if rate != target_rate: \n",
        "  x = torchaudio.transforms.Resample(orig_freq=rate, new_freq=24414, resampling_method='sinc_interpolation')(x)\n",
        "x = x[0] / 32767\n",
        "x = x.numpy()"
      ],
      "execution_count": 0,
      "outputs": []
    },
    {
      "cell_type": "markdown",
      "metadata": {
        "id": "XdPOPMmWa0iE",
        "colab_type": "text"
      },
      "source": [
        "And then we can represent the audio as a spectrogram."
      ]
    },
    {
      "cell_type": "code",
      "metadata": {
        "id": "a4P65rhra0iF",
        "colab_type": "code",
        "colab": {
          "base_uri": "https://localhost:8080/",
          "height": 238
        },
        "outputId": "6f9cfc09-d1bf-462c-951e-b69cf73ae0c2"
      },
      "source": [
        "spec = librosa.feature.melspectrogram(x, sr=rate, n_fft=1024, hop_length=140); spec"
      ],
      "execution_count": 17,
      "outputs": [
        {
          "output_type": "execute_result",
          "data": {
            "text/plain": [
              "array([[5.26159888e-04, 3.56715541e-04, 9.10425499e-05, ...,\n",
              "        2.40869175e-06, 2.14519967e-05, 6.53447276e-05],\n",
              "       [5.99315195e-04, 4.05943662e-04, 1.00524894e-04, ...,\n",
              "        1.39853876e-06, 1.34161870e-05, 4.96851700e-05],\n",
              "       [7.15164405e-04, 5.27181224e-04, 2.21953537e-04, ...,\n",
              "        6.56982272e-06, 2.12046531e-05, 6.39668644e-05],\n",
              "       ...,\n",
              "       [1.09259643e-08, 7.81140137e-09, 2.91970201e-09, ...,\n",
              "        1.16049898e-09, 1.69081688e-09, 3.15328225e-09],\n",
              "       [1.07597443e-08, 7.79395641e-09, 3.27026995e-09, ...,\n",
              "        9.46175099e-10, 1.87392320e-09, 3.72283917e-09],\n",
              "       [1.56648526e-08, 1.09981491e-08, 3.68280777e-09, ...,\n",
              "        1.28728073e-09, 2.41403028e-09, 4.94840593e-09]])"
            ]
          },
          "metadata": {
            "tags": []
          },
          "execution_count": 17
        }
      ]
    },
    {
      "cell_type": "markdown",
      "metadata": {
        "id": "zu6kLBR1a0iI",
        "colab_type": "text"
      },
      "source": [
        "A spectrogram is a visualization of sound where the y axis corresponds to frequencies and the x axis to samples. The resultant image is a decomposition of audio into frequencies that the signal consists of at any given point in time.\n",
        "\n",
        "This is what our spectrogram would look like."
      ]
    },
    {
      "cell_type": "code",
      "metadata": {
        "id": "PDXHds3ia0iI",
        "colab_type": "code",
        "colab": {
          "base_uri": "https://localhost:8080/",
          "height": 285
        },
        "outputId": "996397b1-a9fc-4d6d-c1e1-36b22e012794"
      },
      "source": [
        "plt.imshow(spec)"
      ],
      "execution_count": 18,
      "outputs": [
        {
          "output_type": "execute_result",
          "data": {
            "text/plain": [
              "<matplotlib.image.AxesImage at 0x7f69b1de2a90>"
            ]
          },
          "metadata": {
            "tags": []
          },
          "execution_count": 18
        },
        {
          "output_type": "display_data",
          "data": {
            "image/png": "[encoded data removed]",
            "text/plain": [
              "<Figure size 432x288 with 1 Axes>"
            ]
          },
          "metadata": {
            "tags": []
          }
        }
      ]
    },
    {
      "cell_type": "markdown",
      "metadata": {
        "id": "IUZ998Fla0iL",
        "colab_type": "text"
      },
      "source": [
        "We still have a problem though. We know how to go from audio to an image, but our input arrays are of various length! To make it a little bit easier for our model, let's bring them all to the same size, say one corresponding to the first 0.75 seconds."
      ]
    },
    {
      "cell_type": "code",
      "metadata": {
        "id": "AwZq_g7oa0iL",
        "colab_type": "code",
        "colab": {}
      },
      "source": [
        "num_samples = int(0.75 * rate)"
      ],
      "execution_count": 0,
      "outputs": []
    },
    {
      "cell_type": "markdown",
      "metadata": {
        "id": "cQEmm_iNa0iN",
        "colab_type": "text"
      },
      "source": [
        "Librosa to the rescue as it provides a very handy utility!"
      ]
    },
    {
      "cell_type": "code",
      "metadata": {
        "id": "k2mF9XS2a0iN",
        "colab_type": "code",
        "colab": {}
      },
      "source": [
        "x = librosa.util.fix_length(x, num_samples)\n",
        "spec = librosa.feature.melspectrogram(x, sr=rate, n_fft=1024, hop_length=140)"
      ],
      "execution_count": 0,
      "outputs": []
    },
    {
      "cell_type": "code",
      "metadata": {
        "id": "Y1AH7oFja0iQ",
        "colab_type": "code",
        "colab": {
          "base_uri": "https://localhost:8080/",
          "height": 285
        },
        "outputId": "5b3d83e1-8a27-4fab-9146-99f08aab286d"
      },
      "source": [
        "plt.imshow(spec)"
      ],
      "execution_count": 21,
      "outputs": [
        {
          "output_type": "execute_result",
          "data": {
            "text/plain": [
              "<matplotlib.image.AxesImage at 0x7f69af546f60>"
            ]
          },
          "metadata": {
            "tags": []
          },
          "execution_count": 21
        },
        {
          "output_type": "display_data",
          "data": {
            "image/png": "[encoded data removed]",
            "text/plain": [
              "<Figure size 432x288 with 1 Axes>"
            ]
          },
          "metadata": {
            "tags": []
          }
        }
      ]
    },
    {
      "cell_type": "markdown",
      "metadata": {
        "id": "2HTvnBcLa0iS",
        "colab_type": "text"
      },
      "source": [
        "Let's pull all of this together. We get our items like this"
      ]
    },
    {
      "cell_type": "code",
      "metadata": {
        "id": "k-Tih0qRa0iS",
        "colab_type": "code",
        "colab": {}
      },
      "source": [
        "def get_items(path): return get_files(path)"
      ],
      "execution_count": 0,
      "outputs": []
    },
    {
      "cell_type": "markdown",
      "metadata": {
        "id": "Yl4SqYmWa0iU",
        "colab_type": "text"
      },
      "source": [
        "To get our labels from the path we do this"
      ]
    },
    {
      "cell_type": "code",
      "metadata": {
        "id": "NFJ4xxeEa0iV",
        "colab_type": "code",
        "colab": {}
      },
      "source": [
        "def get_y(path): return path.parent.stem"
      ],
      "execution_count": 0,
      "outputs": []
    },
    {
      "cell_type": "markdown",
      "metadata": {
        "id": "McDEn_sea0iX",
        "colab_type": "text"
      },
      "source": [
        "And to get our image (in the form of a numpy array) from a path we do this"
      ]
    },
    {
      "cell_type": "code",
      "metadata": {
        "id": "IETf_DWIa0ib",
        "colab_type": "code",
        "colab": {}
      },
      "source": [
        "def get_x(path, target_rate=24414, num_samples=18310):\n",
        "    x, rate = torchaudio.load_wav(path)\n",
        "    if rate != target_rate: \n",
        "      x = torchaudio.transforms.Resample(orig_freq=rate, new_freq=24414, resampling_method='sinc_interpolation')(x)\n",
        "    x = x[0] / 32767\n",
        "    x = x.numpy()\n",
        "    x = librosa.util.fix_length(x, num_samples)\n",
        "    spec = librosa.feature.melspectrogram(x, sr=rate, n_fft=1024, hop_length=140)\n",
        "    spec = spec / spec.max() * 255 # we want the range of values for our data to be [0, 255]\n",
        "                                   # this way fastai internally will be able to represent it as an image using PIL\n",
        "    return spec.astype(np.uint8)"
      ],
      "execution_count": 0,
      "outputs": []
    },
    {
      "cell_type": "markdown",
      "metadata": {
        "id": "-AIKMHUja0id",
        "colab_type": "text"
      },
      "source": [
        "Internally, `ImageBlock` will be use `Image.fromarray` to create our image. Let us see if this will work with the data our get_x returns"
      ]
    },
    {
      "cell_type": "code",
      "metadata": {
        "id": "gwPNarVca0ie",
        "colab_type": "code",
        "colab": {
          "base_uri": "https://localhost:8080/",
          "height": 145
        },
        "outputId": "1602d6ee-dd6e-4ca0-9836-bf09085f89d9"
      },
      "source": [
        "Image.fromarray(get_x(wav_files[0]).astype(np.uint8))"
      ],
      "execution_count": 25,
      "outputs": [
        {
          "output_type": "execute_result",
          "data": {
            "image/png": "[encoded data removed]",
            "text/plain": [
              "<PIL.Image.Image image mode=L size=131x128 at 0x7F69AF5738D0>"
            ]
          },
          "metadata": {
            "tags": []
          },
          "execution_count": 25
        }
      ]
    },
    {
      "cell_type": "markdown",
      "metadata": {
        "id": "ipW2s_xEa0ig",
        "colab_type": "text"
      },
      "source": [
        "voila! Now let's group all of this using the DataBlock API."
      ]
    },
    {
      "cell_type": "code",
      "metadata": {
        "id": "t_c6FN8Ea0ig",
        "colab_type": "code",
        "colab": {}
      },
      "source": [
        "db = DataBlock(\n",
        "    blocks=(ImageBlock, CategoryBlock),\n",
        "    get_items=get_items,\n",
        "    get_x=get_x,\n",
        "    get_y=get_y,\n",
        "    splitter=RandomSplitter(seed=42))"
      ],
      "execution_count": 0,
      "outputs": []
    },
    {
      "cell_type": "markdown",
      "metadata": {
        "id": "tiufvyb1a0ii",
        "colab_type": "text"
      },
      "source": [
        "The only thing that we added here is the splitter. It will split our data reserving 20% for validation.\n",
        "\n",
        "Please remember to pass in the seed! This way we can keep the split consistent between experiments and will be able to compare various approaches.\n",
        "\n",
        "We can now create dataloaders based on the `DataBlock` we created above."
      ]
    },
    {
      "cell_type": "code",
      "metadata": {
        "id": "XdFEqcaxa0ii",
        "colab_type": "code",
        "colab": {}
      },
      "source": [
        "dls = db.dataloaders(path, num_workers=2)"
      ],
      "execution_count": 0,
      "outputs": []
    },
    {
      "cell_type": "markdown",
      "metadata": {
        "id": "Vr1NYYrta0im",
        "colab_type": "text"
      },
      "source": [
        "To make sure everything worked, let's take a look at a batch of data."
      ]
    },
    {
      "cell_type": "code",
      "metadata": {
        "id": "Kw-nlCVia0in",
        "colab_type": "code",
        "colab": {
          "base_uri": "https://localhost:8080/",
          "height": 536
        },
        "outputId": "02063470-2209-4b6a-fffe-bb4dc13e0bd4"
      },
      "source": [
        "dls.show_batch()"
      ],
      "execution_count": 28,
      "outputs": [
        {
          "output_type": "display_data",
          "data": {
            "image/png": "[encoded data removed]",
            "text/plain": [
              "<Figure size 648x648 with 9 Axes>"
            ]
          },
          "metadata": {
            "tags": []
          }
        }
      ]
    },
    {
      "cell_type": "markdown",
      "metadata": {
        "id": "LCPxhTRva0io",
        "colab_type": "text"
      },
      "source": [
        "Time to create and train a model!"
      ]
    },
    {
      "cell_type": "code",
      "metadata": {
        "id": "VK2h5XSra0ip",
        "colab_type": "code",
        "colab": {
          "base_uri": "https://localhost:8080/",
          "height": 209,
          "referenced_widgets": [
            "fa2397bc326c46209d9310a6b91f7425",
            "2700053e7b974856bc826d1115a56243",
            "f9f55bae6d17465881ff8e0c32c26a3c",
            "d320a2e4d1bd43db89bcc12a92d0da80",
            "15001e72a2384ea2a1486ec590875b28",
            "bad8230c12da4ebbb67b018463268713",
            "b91963436fc64c108fbd75ec9aaba36f",
            "922ff1ef057946e5a55a59e701544745"
          ]
        },
        "outputId": "e6e57d27-baf6-42f5-92d5-0e9448fd8762"
      },
      "source": [
        "learn = cnn_learner(dls, resnet18, metrics=error_rate)\n",
        "learn.fine_tune(1)"
      ],
      "execution_count": 29,
      "outputs": [
        {
          "output_type": "stream",
          "text": [
            "Downloading: \"https://download.pytorch.org/models/resnet18-5c106cde.pth\" to /root/.cache/torch/checkpoints/resnet18-5c106cde.pth\n"
          ],
          "name": "stderr"
        },
        {
          "output_type": "display_data",
          "data": {
            "application/vnd.jupyter.widget-view+json": {
              "model_id": "fa2397bc326c46209d9310a6b91f7425",
              "version_minor": 0,
              "version_major": 2
            },
            "text/plain": [
              "HBox(children=(IntProgress(value=0, max=46827520), HTML(value='')))"
            ]
          },
          "metadata": {
            "tags": []
          }
        },
        {
          "output_type": "stream",
          "text": [
            "\n"
          ],
          "name": "stdout"
        },
        {
          "output_type": "display_data",
          "data": {
            "text/html": [
              "<table border=\"1\" class=\"dataframe\">\n",
              "  <thead>\n",
              "    <tr style=\"text-align: left;\">\n",
              "      <th>epoch</th>\n",
              "      <th>train_loss</th>\n",
              "      <th>valid_loss</th>\n",
              "      <th>error_rate</th>\n",
              "      <th>time</th>\n",
              "    </tr>\n",
              "  </thead>\n",
              "  <tbody>\n",
              "    <tr>\n",
              "      <td>0</td>\n",
              "      <td>0.674175</td>\n",
              "      <td>0.327306</td>\n",
              "      <td>0.087852</td>\n",
              "      <td>01:28</td>\n",
              "    </tr>\n",
              "  </tbody>\n",
              "</table>"
            ],
            "text/plain": [
              "<IPython.core.display.HTML object>"
            ]
          },
          "metadata": {
            "tags": []
          }
        },
        {
          "output_type": "display_data",
          "data": {
            "text/html": [
              "<table border=\"1\" class=\"dataframe\">\n",
              "  <thead>\n",
              "    <tr style=\"text-align: left;\">\n",
              "      <th>epoch</th>\n",
              "      <th>train_loss</th>\n",
              "      <th>valid_loss</th>\n",
              "      <th>error_rate</th>\n",
              "      <th>time</th>\n",
              "    </tr>\n",
              "  </thead>\n",
              "  <tbody>\n",
              "    <tr>\n",
              "      <td>0</td>\n",
              "      <td>0.307324</td>\n",
              "      <td>0.209452</td>\n",
              "      <td>0.063143</td>\n",
              "      <td>01:28</td>\n",
              "    </tr>\n",
              "  </tbody>\n",
              "</table>"
            ],
            "text/plain": [
              "<IPython.core.display.HTML object>"
            ]
          },
          "metadata": {
            "tags": []
          }
        }
      ]
    },
    {
      "cell_type": "markdown",
      "metadata": {
        "id": "0RoZcTnIa0ir",
        "colab_type": "text"
      },
      "source": [
        "A 6.3% error rate! Let's see how we are doing across classes"
      ]
    },
    {
      "cell_type": "code",
      "metadata": {
        "id": "LAU5GVsma0is",
        "colab_type": "code",
        "colab": {
          "base_uri": "https://localhost:8080/",
          "height": 743
        },
        "outputId": "7bfb37b8-00c7-4950-99d5-0a6fd743fbd7"
      },
      "source": [
        "interp = ClassificationInterpretation.from_learner(learn)\n",
        "interp.plot_confusion_matrix(figsize=(12,12), dpi=60)"
      ],
      "execution_count": 30,
      "outputs": [
        {
          "output_type": "display_data",
          "data": {
            "text/html": [
              ""
            ],
            "text/plain": [
              "<IPython.core.display.HTML object>"
            ]
          },
          "metadata": {
            "tags": []
          }
        },
        {
          "output_type": "display_data",
          "data": {
            "image/png": "[encoded data removed]",
            "text/plain": [
              "<Figure size 720x720 with 1 Axes>"
            ]
          },
          "metadata": {
            "tags": []
          }
        }
      ]
    },
    {
      "cell_type": "markdown",
      "metadata": {
        "id": "QfopbavFa0it",
        "colab_type": "text"
      },
      "source": [
        "Overal, the performance is good. But can you do better? Can you achieve an overal better result? Can you share an interesting way of working with the data? What other models than a CNN can you train?\n",
        "\n",
        "Please make sure to create a pull request with your work so that others can learn from you! "
      ]
    }
  ]
}