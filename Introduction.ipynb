{
 "cells": [
  {
   "cell_type": "code",
   "execution_count": 1,
   "metadata": {},
   "outputs": [],
   "source": [
    "from fastai2.vision.all import *"
   ]
  },
  {
   "cell_type": "markdown",
   "metadata": {},
   "source": [
    "Being able to identify the speaker is believed to be a necessary component of a language.\n",
    "\n",
    "Can you share a way of working with the audio data? This could be very helpful to researchers who might be very familiar with digital signal processing techniques, but who maybe haven't had such a broad exposure to deep learning. Also, there are probably quite a lot of people across the world (students, hobbyists) who could benefit greatly from your work!\n",
    "\n",
    "Below I include some starter code to get you going. Would be great if this could turn into a collaborative effort where we could collect in this repository notebooks from contributors showing various ways of working with the data 🙂\n",
    "\n",
    "To make it even more interesting, I am proposing a particular way of splitting the data into train and validation sets. If you follow this way of splitting in your notebooks, we will be able to compare the results!\n",
    "\n",
    "The dataset we will use is a collection of macaque coo call recordings collected for the [Distributed acoustic cues for caller identity in macaque vocalization](https://www.ncbi.nlm.nih.gov/pmc/articles/PMC4806230/)."
   ]
  },
  {
   "cell_type": "code",
   "execution_count": 2,
   "metadata": {},
   "outputs": [
    {
     "data": {
      "text/html": [],
      "text/plain": [
       "<IPython.core.display.HTML object>"
      ]
     },
     "metadata": {},
     "output_type": "display_data"
    }
   ],
   "source": [
    "path = untar_data(URLs.MACAQUES, force_download=True)"
   ]
  },
  {
   "cell_type": "markdown",
   "metadata": {},
   "source": [
    "There are 7285 coo calls recorded (stored in wav files) from 8 individuals. They are organized in directories, where a directory groups calls from a single macaque."
   ]
  },
  {
   "cell_type": "code",
   "execution_count": 3,
   "metadata": {},
   "outputs": [
    {
     "data": {
      "text/plain": [
       "(#8) [Path('/home/radek/.fastai/data/macaques/MU'),Path('/home/radek/.fastai/data/macaques/BE'),Path('/home/radek/.fastai/data/macaques/IO'),Path('/home/radek/.fastai/data/macaques/TH'),Path('/home/radek/.fastai/data/macaques/TW'),Path('/home/radek/.fastai/data/macaques/SN'),Path('/home/radek/.fastai/data/macaques/AL'),Path('/home/radek/.fastai/data/macaques/QU')]"
      ]
     },
     "execution_count": 3,
     "metadata": {},
     "output_type": "execute_result"
    }
   ],
   "source": [
    "path.ls()"
   ]
  },
  {
   "cell_type": "markdown",
   "metadata": {},
   "source": [
    "Let's listen to one of the calls in our browser!"
   ]
  },
  {
   "cell_type": "code",
   "execution_count": 4,
   "metadata": {},
   "outputs": [],
   "source": [
    "import pathlib\n",
    "from IPython.display import Audio"
   ]
  },
  {
   "cell_type": "code",
   "execution_count": 5,
   "metadata": {},
   "outputs": [
    {
     "data": {
      "text/plain": [
       "(#7285) [Path('/home/radek/.fastai/data/macaques/MU/MU804.wav'),Path('/home/radek/.fastai/data/macaques/MU/MU130.wav'),Path('/home/radek/.fastai/data/macaques/MU/MU272.wav'),Path('/home/radek/.fastai/data/macaques/MU/MU38.wav'),Path('/home/radek/.fastai/data/macaques/MU/MU58.wav'),Path('/home/radek/.fastai/data/macaques/MU/MU2.wav'),Path('/home/radek/.fastai/data/macaques/MU/MU632.wav'),Path('/home/radek/.fastai/data/macaques/MU/MU732.wav'),Path('/home/radek/.fastai/data/macaques/MU/MU503.wav'),Path('/home/radek/.fastai/data/macaques/MU/MU455.wav')...]"
      ]
     },
     "execution_count": 5,
     "metadata": {},
     "output_type": "execute_result"
    }
   ],
   "source": [
    "wav_files = get_files(path); wav_files"
   ]
  },
  {
   "cell_type": "code",
   "execution_count": 6,
   "metadata": {},
   "outputs": [
    {
     "data": {
      "text/html": [
       "\n",
       "                <audio  controls=\"controls\" >\n",
       "                    <source src=\"data:audio/x-wav;base64,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\" type=\"audio/x-wav\" />\n",
       "                    Your browser does not support the audio element.\n",
       "                </audio>\n",
       "              "
      ],
      "text/plain": [
       "<IPython.lib.display.Audio object>"
      ]
     },
     "execution_count": 6,
     "metadata": {},
     "output_type": "execute_result"
    }
   ],
   "source": [
    "Audio(wav_files[0])"
   ]
  },
  {
   "cell_type": "markdown",
   "metadata": {},
   "source": [
    "Did you here the 'coo'? 🙂 Great!\n",
    "\n",
    "This is what the path to a single recording looks like"
   ]
  },
  {
   "cell_type": "code",
   "execution_count": 7,
   "metadata": {},
   "outputs": [
    {
     "data": {
      "text/plain": [
       "Path('/home/radek/.fastai/data/macaques/MU/MU804.wav')"
      ]
     },
     "execution_count": 7,
     "metadata": {},
     "output_type": "execute_result"
    }
   ],
   "source": [
    "wav_files[0]"
   ]
  },
  {
   "cell_type": "markdown",
   "metadata": {},
   "source": [
    "This recording comes from an individual codenamed 'MU'. We can grab that information from the path as follows:"
   ]
  },
  {
   "cell_type": "code",
   "execution_count": 8,
   "metadata": {},
   "outputs": [
    {
     "data": {
      "text/plain": [
       "'MU'"
      ]
     },
     "execution_count": 8,
     "metadata": {},
     "output_type": "execute_result"
    }
   ],
   "source": [
    "wav_files[0].parent.stem"
   ]
  },
  {
   "cell_type": "markdown",
   "metadata": {},
   "source": [
    "Let's read all of the data and see what else we can learn."
   ]
  },
  {
   "cell_type": "code",
   "execution_count": 9,
   "metadata": {},
   "outputs": [],
   "source": [
    "import librosa # the librosa library makes it very convenient to work with audio files in Python"
   ]
  },
  {
   "cell_type": "code",
   "execution_count": 10,
   "metadata": {},
   "outputs": [
    {
     "name": "stdout",
     "output_type": "stream",
     "text": [
      "CPU times: user 14.3 s, sys: 243 ms, total: 14.5 s\n",
      "Wall time: 14.5 s\n"
     ]
    }
   ],
   "source": [
    "%%time\n",
    "rate=24414\n",
    "audio, names = L(), L()\n",
    "\n",
    "for fp in wav_files:\n",
    "    x, _ = librosa.load(fp, sr=rate)\n",
    "    names.append(fp.parent.stem)\n",
    "    audio.append(x)"
   ]
  },
  {
   "cell_type": "markdown",
   "metadata": {},
   "source": [
    "The recording of a sound is nothing more than samples of the air pressure taken by the microphone some number of times (sampling rate) per second. All this gets stored in an array. I've created a bit of a primer on this [here](https://github.com/earthspecies/from_zero_to_DSP), if you would like to learn more."
   ]
  },
  {
   "cell_type": "code",
   "execution_count": 11,
   "metadata": {},
   "outputs": [
    {
     "data": {
      "text/plain": [
       "array([-0.00384521, -0.00430298, -0.00494385, ...,  0.02832031,\n",
       "        0.03106689,  0.03323364], dtype=float32)"
      ]
     },
     "execution_count": 11,
     "metadata": {},
     "output_type": "execute_result"
    }
   ],
   "source": [
    "audio[100]"
   ]
  },
  {
   "cell_type": "markdown",
   "metadata": {},
   "source": [
    "We can listen to the values in the array!"
   ]
  },
  {
   "cell_type": "code",
   "execution_count": 12,
   "metadata": {},
   "outputs": [
    {
     "data": {
      "text/html": [
       "\n",
       "                <audio  controls=\"controls\" >\n",
       "                    <source src=\"data:audio/wav;base64,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\" type=\"audio/wav\" />\n",
       "                    Your browser does not support the audio element.\n",
       "                </audio>\n",
       "              "
      ],
      "text/plain": [
       "<IPython.lib.display.Audio object>"
      ]
     },
     "execution_count": 12,
     "metadata": {},
     "output_type": "execute_result"
    }
   ],
   "source": [
    "Audio(audio[100], rate=rate)"
   ]
  },
  {
   "cell_type": "markdown",
   "metadata": {},
   "source": [
    "Let's look at the duration of calls by indiviual."
   ]
  },
  {
   "cell_type": "code",
   "execution_count": 13,
   "metadata": {},
   "outputs": [
    {
     "data": {
      "image/png": "[encoded data removed]",
      "text/plain": [
       "<Figure size 432x288 with 1 Axes>"
      ]
     },
     "metadata": {
      "needs_background": "light"
     },
     "output_type": "display_data"
    }
   ],
   "source": [
    "import seaborn as sns\n",
    "\n",
    "durations = audio.map(len).map(lambda x: x / rate)\n",
    "\n",
    "for name in names.unique():\n",
    "    mask = names.map(lambda x: x == name)\n",
    "    sns.distplot(durations[mask], label=name)\n",
    "plt.legend();"
   ]
  },
  {
   "cell_type": "markdown",
   "metadata": {},
   "source": [
    "We see that the calls are of varying length (additionaly, some macaques have a preference for longer calls and other for shorter ones!). This is something we will have to address as we prepare the data for our deep learning model.\n",
    "\n",
    "Let us build our dataloaders using the `DataBlock` api! There are several pieces we will have to tell the `DataBlock` api how to do.\n",
    "\n",
    "* how to get all the items from the dataset\n",
    "* how to label the items\n",
    "* how to read in the items before passing them to the model"
   ]
  },
  {
   "cell_type": "markdown",
   "metadata": {},
   "source": [
    "Getting all the items is going to be easy - the starting point for our items will be the paths pointing to our files. We already know how obtan this using the `get_files` function provided by fastai."
   ]
  },
  {
   "cell_type": "code",
   "execution_count": 14,
   "metadata": {},
   "outputs": [
    {
     "data": {
      "text/plain": [
       "(#7285) [Path('/home/radek/.fastai/data/macaques/MU/MU804.wav'),Path('/home/radek/.fastai/data/macaques/MU/MU130.wav'),Path('/home/radek/.fastai/data/macaques/MU/MU272.wav'),Path('/home/radek/.fastai/data/macaques/MU/MU38.wav'),Path('/home/radek/.fastai/data/macaques/MU/MU58.wav'),Path('/home/radek/.fastai/data/macaques/MU/MU2.wav'),Path('/home/radek/.fastai/data/macaques/MU/MU632.wav'),Path('/home/radek/.fastai/data/macaques/MU/MU732.wav'),Path('/home/radek/.fastai/data/macaques/MU/MU503.wav'),Path('/home/radek/.fastai/data/macaques/MU/MU455.wav')...]"
      ]
     },
     "execution_count": 14,
     "metadata": {},
     "output_type": "execute_result"
    }
   ],
   "source": [
    "get_files(path)"
   ]
  },
  {
   "cell_type": "markdown",
   "metadata": {},
   "source": [
    "Going from an `item` (a path in our case) to a label is going to be straightforward as well. We already saw how can go about this above"
   ]
  },
  {
   "cell_type": "code",
   "execution_count": 15,
   "metadata": {},
   "outputs": [
    {
     "data": {
      "text/plain": [
       "'MU'"
      ]
     },
     "execution_count": 15,
     "metadata": {},
     "output_type": "execute_result"
    }
   ],
   "source": [
    "wav_files[0].parent.stem"
   ]
  },
  {
   "cell_type": "markdown",
   "metadata": {},
   "source": [
    "We also already know how to read in an audio file as a numpy array. But how do we go from this representation to something that we could train our model on?\n",
    "\n",
    "We could build a model straight on the array, it would be very interesting to see how a model like that could perform.\n",
    "\n",
    "There is also another alternative. We could represent our audio as an image and train a regular CNN classifier on it! For many problems presenting your data as an image before feeding it to a model is a state of the art approach.\n",
    "\n",
    "In the case of audio, it seems this approach can work very well for [some problems](https://ai.googleblog.com/2018/10/acoustic-detection-of-humpback-whales.html), though it also has [some limitations](https://towardsdatascience.com/whats-wrong-with-spectrograms-and-cnns-for-audio-processing-311377d7ccd).\n",
    "\n",
    "Devil is in the details - how we train our model, how we prepare the datasets, how we go from audio to an image, all will play a role in the results we get. This is by no means a solved problem - any results you could show through your work could potentially be very useful.\n",
    "\n",
    "Here is one way we could go about preparing our data.\n",
    "\n",
    "We can use librosa as before to read it in."
   ]
  },
  {
   "cell_type": "code",
   "execution_count": 16,
   "metadata": {},
   "outputs": [],
   "source": [
    "x, rate = librosa.load(wav_files[100], sr=rate)"
   ]
  },
  {
   "cell_type": "markdown",
   "metadata": {},
   "source": [
    "And then we can represent the audio as a spectrogram."
   ]
  },
  {
   "cell_type": "code",
   "execution_count": 17,
   "metadata": {},
   "outputs": [
    {
     "data": {
      "text/plain": [
       "array([[1.00589416e-04, 6.32802621e-05, 2.03951404e-05, ...,\n",
       "        4.06562649e-05, 4.31331107e-04, 1.18548423e-03],\n",
       "       [1.03474013e-04, 6.79709847e-05, 9.54130337e-06, ...,\n",
       "        1.31254783e-05, 3.28817812e-04, 1.20362302e-03],\n",
       "       [2.41833724e-04, 2.13982625e-04, 1.89231956e-04, ...,\n",
       "        2.09508173e-04, 8.45054456e-04, 2.06834124e-03],\n",
       "       ...,\n",
       "       [3.57648466e-09, 2.75889889e-09, 1.58568703e-09, ...,\n",
       "        2.54278887e-09, 1.02106563e-08, 2.59234589e-08],\n",
       "       [3.71856190e-09, 2.91667490e-09, 1.54332080e-09, ...,\n",
       "        2.22747065e-09, 1.30639872e-08, 3.52301441e-08],\n",
       "       [2.48021759e-09, 2.19299778e-09, 1.60048774e-09, ...,\n",
       "        2.14504481e-09, 1.34958649e-08, 3.67253818e-08]], dtype=float32)"
      ]
     },
     "execution_count": 17,
     "metadata": {},
     "output_type": "execute_result"
    }
   ],
   "source": [
    "spec = librosa.feature.melspectrogram(x, sr=rate, n_fft=1024, hop_length=140); spec"
   ]
  },
  {
   "cell_type": "markdown",
   "metadata": {},
   "source": [
    "A spectrogram is a visualization of sound where the y axis corresponds to frequencies and the x axis to samples. The resultant image is a decomposition of audio into frequencies that the signal consists of at any given point in time.\n",
    "\n",
    "This is what our spectrogram would look like."
   ]
  },
  {
   "cell_type": "code",
   "execution_count": 18,
   "metadata": {},
   "outputs": [
    {
     "data": {
      "text/plain": [
       "<matplotlib.image.AxesImage at 0x7f2ad3cd8450>"
      ]
     },
     "execution_count": 18,
     "metadata": {},
     "output_type": "execute_result"
    },
    {
     "data": {
      "image/png": "[encoded data removed]",
      "text/plain": [
       "<Figure size 432x288 with 1 Axes>"
      ]
     },
     "metadata": {
      "needs_background": "light"
     },
     "output_type": "display_data"
    }
   ],
   "source": [
    "plt.imshow(spec)"
   ]
  },
  {
   "cell_type": "markdown",
   "metadata": {},
   "source": [
    "We still have a problem though. We know how to go from audio to an image, but our input arrays are of various length! To make it a little bit easier for our model, let's bring them all to the same size, say one corresponding to the first 0.75 seconds."
   ]
  },
  {
   "cell_type": "code",
   "execution_count": 19,
   "metadata": {},
   "outputs": [],
   "source": [
    "num_samples = int(0.75 * rate)"
   ]
  },
  {
   "cell_type": "markdown",
   "metadata": {},
   "source": [
    "Librosa to the rescue again as it provides a very handy utility!"
   ]
  },
  {
   "cell_type": "code",
   "execution_count": 20,
   "metadata": {},
   "outputs": [],
   "source": [
    "x, rate = librosa.load(wav_files[0], sr=rate)\n",
    "x = librosa.util.fix_length(x, num_samples)\n",
    "spec = librosa.feature.melspectrogram(x, sr=rate, n_fft=1024, hop_length=140)"
   ]
  },
  {
   "cell_type": "code",
   "execution_count": 21,
   "metadata": {},
   "outputs": [
    {
     "data": {
      "text/plain": [
       "<matplotlib.image.AxesImage at 0x7f2ad1439410>"
      ]
     },
     "execution_count": 21,
     "metadata": {},
     "output_type": "execute_result"
    },
    {
     "data": {
      "image/png": "[encoded data removed]",
      "text/plain": [
       "<Figure size 432x288 with 1 Axes>"
      ]
     },
     "metadata": {
      "needs_background": "light"
     },
     "output_type": "display_data"
    }
   ],
   "source": [
    "plt.imshow(spec)"
   ]
  },
  {
   "cell_type": "markdown",
   "metadata": {},
   "source": [
    "Let's pull all of this together. We get our items like this"
   ]
  },
  {
   "cell_type": "code",
   "execution_count": 22,
   "metadata": {},
   "outputs": [],
   "source": [
    "def get_items(path): return get_files(path)"
   ]
  },
  {
   "cell_type": "markdown",
   "metadata": {},
   "source": [
    "To get our labels from the path we do this"
   ]
  },
  {
   "cell_type": "code",
   "execution_count": 23,
   "metadata": {},
   "outputs": [],
   "source": [
    "def get_y(path): return path.parent.stem"
   ]
  },
  {
   "cell_type": "markdown",
   "metadata": {},
   "source": [
    "And to get our image (in the form of a numpy array) from a path we do this"
   ]
  },
  {
   "cell_type": "code",
   "execution_count": 24,
   "metadata": {},
   "outputs": [
    {
     "data": {
      "text/plain": [
       "18310"
      ]
     },
     "execution_count": 24,
     "metadata": {},
     "output_type": "execute_result"
    }
   ],
   "source": [
    "num_samples"
   ]
  },
  {
   "cell_type": "code",
   "execution_count": 25,
   "metadata": {},
   "outputs": [],
   "source": [
    "def get_x(path, rate=24414, num_samples=18310):\n",
    "    x, rate = librosa.load(path, sr=rate)\n",
    "    x = librosa.util.fix_length(x, num_samples)\n",
    "    spec = librosa.feature.melspectrogram(x, sr=rate, n_fft=1024, hop_length=140)\n",
    "    spec = spec / spec.max() * 255 # we want the range of values for our data to be [0, 255]\n",
    "                                   # this way fastai internally will be able to represent it as an image using PIL\n",
    "    return spec.astype(np.uint8)"
   ]
  },
  {
   "cell_type": "markdown",
   "metadata": {},
   "source": [
    "Internally, `ImageBlock` will be use `Image.fromarray` to create our image. Let us see if this will work with the data our get_x returns"
   ]
  },
  {
   "cell_type": "code",
   "execution_count": 26,
   "metadata": {},
   "outputs": [
    {
     "data": {
      "image/png": "[encoded data removed]",
      "text/plain": [
       "<PIL.Image.Image image mode=L size=131x128 at 0x7F2AD13F3F90>"
      ]
     },
     "execution_count": 26,
     "metadata": {},
     "output_type": "execute_result"
    }
   ],
   "source": [
    "Image.fromarray(get_x(wav_files[0]).astype(np.uint8))"
   ]
  },
  {
   "cell_type": "markdown",
   "metadata": {},
   "source": [
    "voila! Now let's group all of this using the DataBlock API."
   ]
  },
  {
   "cell_type": "code",
   "execution_count": 27,
   "metadata": {},
   "outputs": [],
   "source": [
    "db = DataBlock(\n",
    "    blocks=(ImageBlock, CategoryBlock),\n",
    "    get_items=get_items,\n",
    "    get_x=get_x,\n",
    "    get_y=get_y,\n",
    "    splitter=RandomSplitter(seed=42))"
   ]
  },
  {
   "cell_type": "markdown",
   "metadata": {},
   "source": [
    "The only thing that we added here is the splitter. It will split our data reserving 20% for validation.\n",
    "\n",
    "Please remember to pass in the seed! This way we can keep the split consistent between experiments and will be able to compare various approaches.\n",
    "\n",
    "We can now create dataloaders based on the `DataBlock` we created above."
   ]
  },
  {
   "cell_type": "code",
   "execution_count": 28,
   "metadata": {},
   "outputs": [],
   "source": [
    "dls = db.dataloaders(path, num_workers=12)"
   ]
  },
  {
   "cell_type": "markdown",
   "metadata": {},
   "source": [
    "To make sure everything worked, let's take a look at a batch of data."
   ]
  },
  {
   "cell_type": "code",
   "execution_count": 29,
   "metadata": {},
   "outputs": [
    {
     "data": {
      "image/png": "[encoded data removed]",
      "text/plain": [
       "<Figure size 648x648 with 9 Axes>"
      ]
     },
     "metadata": {
      "needs_background": "light"
     },
     "output_type": "display_data"
    }
   ],
   "source": [
    "dls.show_batch()"
   ]
  },
  {
   "cell_type": "markdown",
   "metadata": {},
   "source": [
    "Time to create and train a model!"
   ]
  },
  {
   "cell_type": "code",
   "execution_count": 30,
   "metadata": {},
   "outputs": [
    {
     "data": {
      "text/html": [
       "<table border=\"1\" class=\"dataframe\">\n",
       "  <thead>\n",
       "    <tr style=\"text-align: left;\">\n",
       "      <th>epoch</th>\n",
       "      <th>train_loss</th>\n",
       "      <th>valid_loss</th>\n",
       "      <th>error_rate</th>\n",
       "      <th>time</th>\n",
       "    </tr>\n",
       "  </thead>\n",
       "  <tbody>\n",
       "    <tr>\n",
       "      <td>0</td>\n",
       "      <td>0.700000</td>\n",
       "      <td>0.348333</td>\n",
       "      <td>0.100892</td>\n",
       "      <td>00:08</td>\n",
       "    </tr>\n",
       "  </tbody>\n",
       "</table>"
      ],
      "text/plain": [
       "<IPython.core.display.HTML object>"
      ]
     },
     "metadata": {},
     "output_type": "display_data"
    },
    {
     "data": {
      "text/html": [
       "<table border=\"1\" class=\"dataframe\">\n",
       "  <thead>\n",
       "    <tr style=\"text-align: left;\">\n",
       "      <th>epoch</th>\n",
       "      <th>train_loss</th>\n",
       "      <th>valid_loss</th>\n",
       "      <th>error_rate</th>\n",
       "      <th>time</th>\n",
       "    </tr>\n",
       "  </thead>\n",
       "  <tbody>\n",
       "    <tr>\n",
       "      <td>0</td>\n",
       "      <td>0.319901</td>\n",
       "      <td>0.230355</td>\n",
       "      <td>0.061084</td>\n",
       "      <td>00:08</td>\n",
       "    </tr>\n",
       "  </tbody>\n",
       "</table>"
      ],
      "text/plain": [
       "<IPython.core.display.HTML object>"
      ]
     },
     "metadata": {},
     "output_type": "display_data"
    }
   ],
   "source": [
    "learn = cnn_learner(dls, resnet18, metrics=error_rate)\n",
    "learn.fine_tune(1)"
   ]
  },
  {
   "cell_type": "markdown",
   "metadata": {},
   "source": [
    "A 6.1% error rate! Let's see how we are doing across classes"
   ]
  },
  {
   "cell_type": "code",
   "execution_count": 31,
   "metadata": {},
   "outputs": [
    {
     "data": {
      "text/html": [],
      "text/plain": [
       "<IPython.core.display.HTML object>"
      ]
     },
     "metadata": {},
     "output_type": "display_data"
    },
    {
     "data": {
      "image/png": "[encoded data removed]",
      "text/plain": [
       "<Figure size 720x720 with 1 Axes>"
      ]
     },
     "metadata": {
      "needs_background": "light"
     },
     "output_type": "display_data"
    }
   ],
   "source": [
    "interp = ClassificationInterpretation.from_learner(learn)\n",
    "interp.plot_confusion_matrix(figsize=(12,12), dpi=60)"
   ]
  },
  {
   "cell_type": "markdown",
   "metadata": {},
   "source": [
    "Overal, the performance is good. But can you do better? Can you achieve an overal better result? Can you share an interesting way of working with the data? What other models than a CNN can you train?\n",
    "\n",
    "Please make sure to create a pull request with your work so that others can learn from you! "
   ]
  }
 ],
 "metadata": {
  "kernelspec": {
   "display_name": "Python 3",
   "language": "python",
   "name": "python3"
  },
  "language_info": {
   "codemirror_mode": {
    "name": "ipython",
    "version": 3
   },
   "file_extension": ".py",
   "mimetype": "text/x-python",
   "name": "python",
   "nbconvert_exporter": "python",
   "pygments_lexer": "ipython3",
   "version": "3.7.6"
  }
 },
 "nbformat": 4,
 "nbformat_minor": 4
}
