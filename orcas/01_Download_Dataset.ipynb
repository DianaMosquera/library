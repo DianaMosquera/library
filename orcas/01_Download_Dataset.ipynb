{
 "cells": [
  {
   "cell_type": "markdown",
   "metadata": {},
   "source": [
    "## Download Dataset"
   ]
  },
  {
   "cell_type": "markdown",
   "metadata": {},
   "source": [
    "Let's begin by downloading the data."
   ]
  },
  {
   "cell_type": "code",
   "execution_count": 1,
   "metadata": {},
   "outputs": [],
   "source": [
    "mkdir data"
   ]
  },
  {
   "cell_type": "code",
   "execution_count": 2,
   "metadata": {},
   "outputs": [
    {
     "name": "stdout",
     "output_type": "stream",
     "text": [
      "--2021-02-23 12:19:33--  https://archive.org/download/orcas_classification/orcas_classification.zip\n",
      "Resolving archive.org (archive.org)... 207.241.224.2\n",
      "Connecting to archive.org (archive.org)|207.241.224.2|:443... connected.\n",
      "HTTP request sent, awaiting response... 302 Found\n",
      "Location: https://ia601406.us.archive.org/9/items/orcas_classification/orcas_classification.zip [following]\n",
      "--2021-02-23 12:19:33--  https://ia601406.us.archive.org/9/items/orcas_classification/orcas_classification.zip\n",
      "Resolving ia601406.us.archive.org (ia601406.us.archive.org)... 207.241.227.126\n",
      "Connecting to ia601406.us.archive.org (ia601406.us.archive.org)|207.241.227.126|:443... connected.\n",
      "HTTP request sent, awaiting response... 200 OK\n",
      "Length: 254361667 (243M) [application/zip]\n",
      "Saving to: ‘orcas_classification.zip’\n",
      "\n",
      "orcas_classificatio 100%[===================>] 242.58M  2.91MB/s    in 75s     \n",
      "\n",
      "2021-02-23 12:20:49 (3.24 MB/s) - ‘orcas_classification.zip’ saved [254361667/254361667]\n",
      "\n"
     ]
    }
   ],
   "source": [
    "!cd data && wget https://archive.org/download/orcas_classification/orcas_classification.zip && unzip -q orcas_classification.zip"
   ]
  },
  {
   "cell_type": "markdown",
   "metadata": {},
   "source": [
    "And we now have everything that we need!"
   ]
  },
  {
   "cell_type": "code",
   "execution_count": 3,
   "metadata": {},
   "outputs": [
    {
     "name": "stdout",
     "output_type": "stream",
     "text": [
      "annotations.csv  \u001b[0m\u001b[01;34maudio\u001b[0m/  \u001b[01;31morcas_classification.zip\u001b[0m\r\n"
     ]
    }
   ],
   "source": [
    "ls data"
   ]
  },
  {
   "cell_type": "markdown",
   "metadata": {},
   "source": [
    "The `annotations.csv` file contains label information."
   ]
  }
 ],
 "metadata": {
  "kernelspec": {
   "display_name": "Python 3",
   "language": "python",
   "name": "python3"
  },
  "language_info": {
   "codemirror_mode": {
    "name": "ipython",
    "version": 3
   },
   "file_extension": ".py",
   "mimetype": "text/x-python",
   "name": "python",
   "nbconvert_exporter": "python",
   "pygments_lexer": "ipython3",
   "version": "3.7.6"
  }
 },
 "nbformat": 4,
 "nbformat_minor": 4
}
